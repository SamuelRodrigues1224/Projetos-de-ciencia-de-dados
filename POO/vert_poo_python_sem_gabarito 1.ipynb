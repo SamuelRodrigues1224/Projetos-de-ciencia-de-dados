{
  "cells": [
    {
      "cell_type": "markdown",
      "metadata": {
        "id": "qLEZpJVDydgI"
      },
      "source": [
        "# Programação Orientada a Objeto (POO)\n",
        "___"
      ]
    },
    {
      "cell_type": "markdown",
      "metadata": {
        "id": "PWZCt02MytDN"
      },
      "source": [
        "## O que é POO?\n",
        "\n"
      ]
    },
    {
      "cell_type": "markdown",
      "metadata": {
        "id": "q6FZr7Wuyvlv"
      },
      "source": [
        "A POO é um estilo de programação que se baseia no conceito de \"objetos\". Um objeto é uma instância de uma classe, e uma classe é um template para criar objetos. Em termos mais simples, imagine uma classe como um molde para criar objetos, e objetos como instâncias específicas desse molde."
      ]
    },
    {
      "cell_type": "markdown",
      "metadata": {
        "id": "kWiagDzh0J62"
      },
      "source": [
        "## Por que aprender POO?\n",
        "\n",
        "* **Modularidade**: A POO promove a modularidade, dividindo o código em classes e objetos. Isso facilita a manutenção e o entendimento do software, pois cada classe representa uma parte específica da lógica.\n",
        "\n",
        "* **Reusabilidade de Código**: Através do conceito de herança, é possível reutilizar código de uma classe em outra. Isso reduz a redundância e economiza esforço na programação.\n",
        "\n",
        "* **Encapsulamento**: A capacidade de encapsular atributos e métodos em uma classe, ocultando os detalhes internos de implementação, contribui para a segurança e confiabilidade do código.\n",
        "\n",
        "* **Abstração**: A POO permite abstrair complexidades, representando objetos do mundo real de forma mais próxima. Isso facilita a modelagem e resolução de problemas do mundo real no código.\n",
        "\n",
        "* **Facilidade de Manutenção**: Com a POO, as alterações em uma parte do código não afetam diretamente outras partes, desde que a interface pública permaneça a mesma. Isso simplifica a manutenção e evolução do software.\n",
        "\n",
        "* **Polimorfismo**: A capacidade de tratar objetos de diferentes classes de maneira uniforme simplifica a lógica do programa e torna o código mais flexível.\n",
        "\n",
        "* **Melhoria na Colaboração**: Em projetos de equipe, a POO facilita a colaboração, pois as classes podem ser desenvolvidas independentemente e integradas de maneira mais eficiente.\n",
        "\n",
        "* **Pensamento Orientado a Objetos**: A POO encoraja um estilo de pensamento mais próximo da resolução de problemas do mundo real, o que pode melhorar a capacidade de design e resolução de desafios complexos."
      ]
    },
    {
      "cell_type": "markdown",
      "metadata": {
        "id": "7zHwUNlK1wrl"
      },
      "source": [
        "## Classes, Objetos e Instâncias\n",
        "\n",
        "<img src=\"https://fotos-jornaldocarro-estadao.nyc3.cdn.digitaloceanspaces.com/uploads/2019/12/10194107/ford-extended-windshield-patent-1160x653.jpg\" width=450>\n",
        "\n",
        "\n",
        "Ao se planejar a construção de uma classe as duas perguntas abaixo devem ser respondidas.\n",
        "\n",
        "1.   Quais dados serão utilizados para descrever o objeto? <br>\n",
        "    a. Marca <br>\n",
        "    b. Modelo <br>\n",
        "    c. Ano de fabricação <br>\n",
        "    d. Cor <br>\n",
        "    e. Capacidade do tanque de gasolina <br>\n",
        "    f. Velocidade atual do carro <br>\n",
        "\n",
        "2.   Quais são as funções desse objeto? <br>\n",
        "    a. Ligar <br>\n",
        "    b. Acelerar <br>\n",
        "    c. Frear <br>\n"
      ]
    },
    {
      "cell_type": "markdown",
      "metadata": {
        "id": "ovrNHz7F5z_J"
      },
      "source": [
        "<table><tr>\n",
        "<td>\n",
        "  <p align=\"center\" style=\"padding: 10px\">\n",
        "    <img alt=\"Forwarding\" src=\"https://fotos-jornaldocarro-estadao.nyc3.cdn.digitaloceanspaces.com/uploads/2019/12/10194107/ford-extended-windshield-patent-1160x653.jpg\" width=\"450\">\n",
        "    <br>\n",
        "    <em style=\"color: grey\">Classe</em>\n",
        "  </p>\n",
        "</td>\n",
        "<td>\n",
        "  <p align=\"center\" style=\"padding: 10px\">\n",
        "    <img alt=\"Forwarding\" src=\"https://cdn.motor1.com/images/mgl/nAylgy/s1/honda-hr-v-touring-2023.jpg\" width=\"450\">\n",
        "    <br>\n",
        "    <em style=\"color: grey\">Instância</em>\n",
        "  </p>\n",
        "</td>\n",
        "</tr></table>"
      ]
    },
    {
      "cell_type": "markdown",
      "metadata": {
        "id": "6Ejhyc5r60YC"
      },
      "source": [
        "Em python para criar uma classe basta utilizar a palavra reservada `class` e definir o seu método construtor. No nosso exemplo, vamos criar a classe `Carro`, com seus principais dados e métodos."
      ]
    },
    {
      "cell_type": "code",
      "execution_count": null,
      "metadata": {
        "id": "vZkDehJm7RyK"
      },
      "outputs": [],
      "source": [
        "class Carro:\n",
        "    def __init__(self, marca, modelo, ano, cor, tanque):\n",
        "        self.marca = marca\n",
        "        self.modelo = modelo\n",
        "        self.ano = ano\n",
        "        self.cor = cor\n",
        "        self.tanque = tanque\n",
        "        self.velocidade = 0\n",
        "\n",
        "    def ligar(self):\n",
        "        pass\n",
        "\n",
        "    def acelerar(self):\n",
        "        pass\n",
        "\n",
        "    def frear(self):\n",
        "        pass"
      ]
    },
    {
      "cell_type": "code",
      "execution_count": null,
      "metadata": {
        "id": "QqWpH3Vi7z7a"
      },
      "outputs": [],
      "source": [
        "## criando uma instância da classe carro\n",
        "\n",
        "meu_carro = Carro('Honda','HR-V 1.5 Touring', 2023, 'azul', 45)"
      ]
    },
    {
      "cell_type": "code",
      "execution_count": null,
      "metadata": {
        "colab": {
          "base_uri": "https://localhost:8080/"
        },
        "id": "6X2QnoGF8m9B",
        "outputId": "0311b9c6-d3aa-4ce6-9bf7-86a2d6c04a77"
      },
      "outputs": [
        {
          "output_type": "execute_result",
          "data": {
            "text/plain": [
              "('Honda', 'HR-V 1.5 Touring', 2023, 45)"
            ]
          },
          "metadata": {},
          "execution_count": 16
        }
      ],
      "source": [
        "## Verificando os atributos dessa instância\n",
        "\n",
        "meu_carro.marca, meu_carro.modelo, meu_carro.ano, meu_carro.tanque"
      ]
    },
    {
      "cell_type": "code",
      "source": [
        "Carro()"
      ],
      "metadata": {
        "colab": {
          "base_uri": "https://localhost:8080/",
          "height": 176
        },
        "id": "G8Cqb4RdT87T",
        "outputId": "fc2616cc-92f5-4490-cbe4-9df1e5f928fa"
      },
      "execution_count": null,
      "outputs": [
        {
          "output_type": "error",
          "ename": "TypeError",
          "evalue": "ignored",
          "traceback": [
            "\u001b[0;31m---------------------------------------------------------------------------\u001b[0m",
            "\u001b[0;31mTypeError\u001b[0m                                 Traceback (most recent call last)",
            "\u001b[0;32m<ipython-input-17-d862ed856ddb>\u001b[0m in \u001b[0;36m<cell line: 1>\u001b[0;34m()\u001b[0m\n\u001b[0;32m----> 1\u001b[0;31m \u001b[0mCarro\u001b[0m\u001b[0;34m(\u001b[0m\u001b[0;34m)\u001b[0m\u001b[0;34m\u001b[0m\u001b[0;34m\u001b[0m\u001b[0m\n\u001b[0m",
            "\u001b[0;31mTypeError\u001b[0m: Carro.__init__() missing 5 required positional arguments: 'marca', 'modelo', 'ano', 'cor', and 'tanque'"
          ]
        }
      ]
    },
    {
      "cell_type": "markdown",
      "metadata": {
        "id": "8NXxkCj16nuO"
      },
      "source": [
        "O método `__init__` em uma classe é chamado de **construtor**. Ele é automaticamente invocado quando uma instância da classe é criada. O objetivo principal do método `__init__` é realizar inicializações e configurações necessárias nos atributos da instância. Em outras palavras, o método `__init__` é utilizado para definir o estado inicial de um objeto quando ele é criado. Isso ajuda a garantir que a instância da classe comece com os valores desejados e esteja pronta para ser usada.\n",
        "\n",
        "\n",
        "\n",
        "\n",
        "\n"
      ]
    },
    {
      "cell_type": "code",
      "execution_count": null,
      "metadata": {
        "id": "DmVggDaU9OWk"
      },
      "outputs": [],
      "source": [
        "class Carro:\n",
        "    def __init__(self, marca, modelo, ano, cor, tanque):\n",
        "        self.marca = marca\n",
        "        self.modelo = modelo\n",
        "        self.ano = ano\n",
        "        self.cor = cor\n",
        "        self.tanque = tanque\n",
        "        self.velocidade = 0\n",
        "        self.ligado = False\n",
        "\n",
        "    def ligar(self):\n",
        "        if self.ligado:\n",
        "            print('O carro já está ligado! Pode iniciar sua viagem ... 🚙💨💨')\n",
        "        else:\n",
        "            print('Carro ligado! Vrum vrum ...')\n",
        "            self.ligado = True\n",
        "\n",
        "    def acelerar(self):\n",
        "        pass\n",
        "\n",
        "    def frear(self):\n",
        "        pass"
      ]
    },
    {
      "cell_type": "code",
      "execution_count": null,
      "metadata": {
        "colab": {
          "base_uri": "https://localhost:8080/"
        },
        "id": "uKxYb0TA951d",
        "outputId": "f79593b7-0b9c-4160-c57e-0aad6f1bee5d"
      },
      "outputs": [
        {
          "output_type": "execute_result",
          "data": {
            "text/plain": [
              "False"
            ]
          },
          "metadata": {},
          "execution_count": 19
        }
      ],
      "source": [
        "meu_carro = Carro('Ford', 'KA 1.5 SE', 2018, 'prata', 45)\n",
        "meu_carro.ligado"
      ]
    },
    {
      "cell_type": "code",
      "execution_count": null,
      "metadata": {
        "colab": {
          "base_uri": "https://localhost:8080/"
        },
        "id": "JXlhxeg298An",
        "outputId": "daf4535d-3855-4dd2-8c1b-d3fe9bf45c5f"
      },
      "outputs": [
        {
          "output_type": "stream",
          "name": "stdout",
          "text": [
            "Carro ligado! Vrum vrum ...\n"
          ]
        }
      ],
      "source": [
        "meu_carro.ligar()"
      ]
    },
    {
      "cell_type": "code",
      "execution_count": null,
      "metadata": {
        "colab": {
          "base_uri": "https://localhost:8080/"
        },
        "id": "7Nx3m22p970o",
        "outputId": "df881a83-4bc2-4336-dde4-3b0977b01530"
      },
      "outputs": [
        {
          "output_type": "execute_result",
          "data": {
            "text/plain": [
              "True"
            ]
          },
          "metadata": {},
          "execution_count": 21
        }
      ],
      "source": [
        "meu_carro.ligado"
      ]
    },
    {
      "cell_type": "code",
      "source": [
        "meu_carro.ligar()"
      ],
      "metadata": {
        "colab": {
          "base_uri": "https://localhost:8080/"
        },
        "id": "V7JR5MTOU5x3",
        "outputId": "5581daac-0bea-49db-fe95-32ace8549371"
      },
      "execution_count": null,
      "outputs": [
        {
          "output_type": "stream",
          "name": "stdout",
          "text": [
            "O carro já está ligado! Pode iniciar sua viagem ... 🚙💨💨\n"
          ]
        }
      ]
    },
    {
      "cell_type": "markdown",
      "metadata": {
        "id": "WLNs-Aw0-Uu2"
      },
      "source": [
        "Em Python, a palavra reservada `self` é uma convenção usada para se referir à instância atual da classe. Quando você define métodos dentro de uma classe, o primeiro parâmetro de cada método deve ser `self`. Este parâmetro representa a instância da classe à qual o método está associado e o seu uso permite que os métodos acessem e manipulem os atributos da instância da classe.\n",
        "\n",
        "\n"
      ]
    },
    {
      "cell_type": "code",
      "execution_count": null,
      "metadata": {
        "id": "TH7GPtVuxr-1"
      },
      "outputs": [],
      "source": [
        "class Carro:\n",
        "    def __init__(self, marca, modelo, ano, cor, tanque):\n",
        "        self.marca = marca\n",
        "        self.modelo = modelo\n",
        "        self.ano = ano\n",
        "        self.cor = cor\n",
        "        self.tanque = tanque\n",
        "        self.velocidade = 0\n",
        "        self.ligado = False\n",
        "\n",
        "    def ligar(self):\n",
        "        if self.ligado:\n",
        "            print('O carro já está ligado! Pode iniciar sua viagem ... 🚙')\n",
        "        else:\n",
        "            print('Carro ligado! Vrum vrum ...')\n",
        "            self.ligado = True\n",
        "\n",
        "    def acelerar(self, tempo):\n",
        "        if self.ligado:\n",
        "            self.velocidade += 1.2*tempo\n",
        "            self.tanque -= (tempo/60)*15\n",
        "            print('Carro em movimento ... 🚙💨💨')\n",
        "        else:\n",
        "            print('O carro está desligado. Ligue o carro primeiro!')\n",
        "\n",
        "    def frear(self):\n",
        "        pass"
      ]
    },
    {
      "cell_type": "code",
      "execution_count": null,
      "metadata": {
        "id": "8WnyNc6a_nYU"
      },
      "outputs": [],
      "source": [
        "meu_carro = Carro('Ford','KA 1.5 SE', 2018, 'prata', 45)"
      ]
    },
    {
      "cell_type": "code",
      "execution_count": null,
      "metadata": {
        "colab": {
          "base_uri": "https://localhost:8080/"
        },
        "id": "7PUDa8o6_qvm",
        "outputId": "363000d2-f7ed-4efe-ca71-a6dbc0c0f66b"
      },
      "outputs": [
        {
          "output_type": "execute_result",
          "data": {
            "text/plain": [
              "(45, False, 0)"
            ]
          },
          "metadata": {},
          "execution_count": 25
        }
      ],
      "source": [
        "meu_carro.tanque, meu_carro.ligado, meu_carro.velocidade"
      ]
    },
    {
      "cell_type": "code",
      "execution_count": null,
      "metadata": {
        "colab": {
          "base_uri": "https://localhost:8080/"
        },
        "id": "umO46YMm_qrb",
        "outputId": "c2a6d18d-e799-407c-876b-e2b6d6fa5097"
      },
      "outputs": [
        {
          "output_type": "stream",
          "name": "stdout",
          "text": [
            "O carro está desligado. Ligue o carro primeiro!\n"
          ]
        }
      ],
      "source": [
        "meu_carro.acelerar(120)"
      ]
    },
    {
      "cell_type": "code",
      "execution_count": null,
      "metadata": {
        "colab": {
          "base_uri": "https://localhost:8080/"
        },
        "id": "qs3poSOT_za2",
        "outputId": "14009e23-4f71-40f5-99f2-fd6e192eebb5"
      },
      "outputs": [
        {
          "output_type": "stream",
          "name": "stdout",
          "text": [
            "Carro ligado! Vrum vrum ...\n"
          ]
        }
      ],
      "source": [
        "meu_carro.ligar()"
      ]
    },
    {
      "cell_type": "code",
      "execution_count": null,
      "metadata": {
        "colab": {
          "base_uri": "https://localhost:8080/"
        },
        "id": "LFLRC-hv_zYw",
        "outputId": "57a2e37e-6173-4dff-f445-62e0b6d0a561"
      },
      "outputs": [
        {
          "output_type": "stream",
          "name": "stdout",
          "text": [
            "Carro em movimento ... 🚙💨💨\n"
          ]
        }
      ],
      "source": [
        "meu_carro.acelerar(120)"
      ]
    },
    {
      "cell_type": "code",
      "execution_count": null,
      "metadata": {
        "colab": {
          "base_uri": "https://localhost:8080/"
        },
        "id": "0vY5ngdn_zWb",
        "outputId": "6d5f0626-14bc-4ddb-dedf-d8aaab143d6b"
      },
      "outputs": [
        {
          "output_type": "execute_result",
          "data": {
            "text/plain": [
              "(15.0, True, 144.0)"
            ]
          },
          "metadata": {},
          "execution_count": 29
        }
      ],
      "source": [
        "meu_carro.tanque, meu_carro.ligado, meu_carro.velocidade"
      ]
    },
    {
      "cell_type": "code",
      "execution_count": null,
      "metadata": {
        "id": "m3-gmnXU_qpQ"
      },
      "outputs": [],
      "source": [
        "class Carro:\n",
        "    def __init__(self, marca, modelo, ano, cor, tanque):\n",
        "        self.marca = marca\n",
        "        self.modelo = modelo\n",
        "        self.ano = ano\n",
        "        self.cor = cor\n",
        "        self.tanque = tanque\n",
        "        self.velocidade = 0\n",
        "        self.ligado = False\n",
        "\n",
        "    def ligar(self):\n",
        "        if self.ligado:\n",
        "            print('O carro já está ligado! Pode iniciar sua viagem ... 🚙✔️')\n",
        "        else:\n",
        "            print('Carro ligado! Vrum vrum ... 🚙✔️')\n",
        "            self.ligado = True\n",
        "\n",
        "    def acelerar(self, tempo):\n",
        "        if self.ligado:\n",
        "            self.velocidade += 1.2*tempo\n",
        "            self.tanque -= (tempo/60)*15\n",
        "            print('Carro em movimento ... 🚙💨💨')\n",
        "        else:\n",
        "            print('O carro está desligado. Ligue o carro primeiro!')\n",
        "\n",
        "    def frear(self, tempo):\n",
        "        if self.ligado and self.velocidade != 0:\n",
        "            self.velocidade -= 0.8*tempo\n",
        "            print('Carro parando ... 🚙⏩')\n",
        "            if self.velocidade < 0:\n",
        "                self.velocidade = 0\n",
        "                print('O carro parou ... 🚙⬇️')\n",
        "        else:\n",
        "            ('O carro já está parado ... 🚙❌')"
      ]
    },
    {
      "cell_type": "code",
      "execution_count": null,
      "metadata": {
        "id": "lpK_MVJ4_qm9"
      },
      "outputs": [],
      "source": [
        "meu_carro = Carro('Ford','KA 1.5 SE', 2023, 'prata', 45)"
      ]
    },
    {
      "cell_type": "code",
      "execution_count": null,
      "metadata": {
        "colab": {
          "base_uri": "https://localhost:8080/"
        },
        "id": "BVVCkL8XB5qv",
        "outputId": "a995c94e-d8c8-4342-e0b1-519297221a90"
      },
      "outputs": [
        {
          "output_type": "execute_result",
          "data": {
            "text/plain": [
              "(45, False, 0)"
            ]
          },
          "metadata": {},
          "execution_count": 48
        }
      ],
      "source": [
        "meu_carro.tanque, meu_carro.ligado, meu_carro.velocidade"
      ]
    },
    {
      "cell_type": "code",
      "source": [
        "print(meu_carro)"
      ],
      "metadata": {
        "colab": {
          "base_uri": "https://localhost:8080/"
        },
        "id": "qjAtXLUXYoEp",
        "outputId": "c57d1ee0-6267-4805-9d66-43e2eb006125"
      },
      "execution_count": null,
      "outputs": [
        {
          "output_type": "stream",
          "name": "stdout",
          "text": [
            "<__main__.Carro object at 0x7bf38e1f5000>\n"
          ]
        }
      ]
    },
    {
      "cell_type": "code",
      "source": [
        "meu_carro2.ligar()\n",
        "meu_carro2.ligado"
      ],
      "metadata": {
        "colab": {
          "base_uri": "https://localhost:8080/"
        },
        "id": "8YfqwpMBXn54",
        "outputId": "306d5b1c-70b4-4539-c20f-8bf91b8b4d68"
      },
      "execution_count": null,
      "outputs": [
        {
          "output_type": "stream",
          "name": "stdout",
          "text": [
            "Carro ligado! Vrum vrum ... 🚙✔️\n"
          ]
        },
        {
          "output_type": "execute_result",
          "data": {
            "text/plain": [
              "True"
            ]
          },
          "metadata": {},
          "execution_count": 43
        }
      ]
    },
    {
      "cell_type": "code",
      "execution_count": null,
      "metadata": {
        "colab": {
          "base_uri": "https://localhost:8080/"
        },
        "id": "L92_krOMB5o1",
        "outputId": "9be8da1a-9263-4e86-fc09-7b4af9af0f5f"
      },
      "outputs": [
        {
          "output_type": "stream",
          "name": "stdout",
          "text": [
            "Carro ligado! Vrum vrum ... 🚙✔️\n",
            "Carro em movimento ... 🚙💨💨\n",
            "Carro parando ... 🚙⏩\n"
          ]
        }
      ],
      "source": [
        "meu_carro.ligar()\n",
        "meu_carro.acelerar(120)\n",
        "meu_carro.frear(180)"
      ]
    },
    {
      "cell_type": "code",
      "execution_count": null,
      "metadata": {
        "colab": {
          "base_uri": "https://localhost:8080/"
        },
        "id": "G3aj2mUyB5mr",
        "outputId": "d66445ab-70a0-4d03-abf9-e474c23de12b"
      },
      "outputs": [
        {
          "output_type": "execute_result",
          "data": {
            "text/plain": [
              "(15.0, True, 0.0)"
            ]
          },
          "metadata": {},
          "execution_count": 40
        }
      ],
      "source": [
        "meu_carro.tanque, meu_carro.ligado, meu_carro.velocidade"
      ]
    },
    {
      "cell_type": "code",
      "execution_count": null,
      "metadata": {
        "id": "8Y9iBCIOC1Dn"
      },
      "outputs": [],
      "source": [
        "class Carro:\n",
        "    def __init__(self, marca, modelo, ano, cor, tanque):\n",
        "        print('Carro criado ... 🚙🐣')\n",
        "        self.marca = marca\n",
        "        self.modelo = modelo\n",
        "        self.ano = ano\n",
        "        self.cor = cor\n",
        "        self.tanque = tanque\n",
        "        self.velocidade = 0\n",
        "        self.ligado = False\n",
        "\n",
        "    def __str__(self):\n",
        "        return str(dict(marca = self.marca, modelo = self.modelo, ano = self.ano,\n",
        "                    cor = self.cor, volume_do_tanque = self.tanque,\n",
        "                    velocidade_atual = self.velocidade, ligado = self.ligado))\n",
        "\n",
        "    def ligar(self):\n",
        "        if self.ligado:\n",
        "            print('O carro já está ligado! Pode iniciar sua viagem ... 🚙✔️')\n",
        "        else:\n",
        "            print('Carro ligado! Vrum vrum ... 🚙✔️')\n",
        "            self.ligado = True\n",
        "\n",
        "    def acelerar(self, tempo):\n",
        "        if self.ligado:\n",
        "            self.velocidade += 1.2*tempo\n",
        "            self.tanque -= (tempo/60)*15\n",
        "            print('Carro em movimento ... 🚙💨💨')\n",
        "        else:\n",
        "            print('O carro está desligado. Ligue o carro primeiro!')\n",
        "\n",
        "    def frear(self, tempo):\n",
        "        if self.ligado and self.velocidade != 0:\n",
        "            self.velocidade -= 0.8*tempo\n",
        "            print('Carro parando ... 🚙⏩')\n",
        "            if self.velocidade < 0:\n",
        "                self.velocidade = 0\n",
        "                print('O carro parou ... 🚙⬇️')\n",
        "        else:\n",
        "            ('O carro já está parado ... 🚙❌')\n",
        "\n",
        "    def desligar(self):\n",
        "        if self.ligado:\n",
        "            print('Carro desligando ... tchau tchau! 🚙👋')\n",
        "            self.ligado = False\n",
        "        else:\n",
        "            print('O carro já esta desligado! 🚙☠️')"
      ]
    },
    {
      "cell_type": "code",
      "execution_count": null,
      "metadata": {
        "colab": {
          "base_uri": "https://localhost:8080/"
        },
        "id": "2ZIImCBpC1BX",
        "outputId": "1e1a9f13-de6b-4782-d693-ec2a5c309d65"
      },
      "outputs": [
        {
          "output_type": "stream",
          "name": "stdout",
          "text": [
            "Carro criado ... 🚙🐣\n",
            "{'marca': 'Ford', 'modelo': 'KA 1.5 SE', 'ano': 2023, 'cor': 'prata', 'volume_do_tanque': 45, 'velocidade_atual': 0, 'ligado': False}\n",
            "Carro ligado! Vrum vrum ... 🚙✔️\n",
            "{'marca': 'Ford', 'modelo': 'KA 1.5 SE', 'ano': 2023, 'cor': 'prata', 'volume_do_tanque': 45, 'velocidade_atual': 0, 'ligado': True}\n",
            "Carro em movimento ... 🚙💨💨\n",
            "Carro em movimento ... 🚙💨💨\n",
            "Carro em movimento ... 🚙💨💨\n",
            "{'marca': 'Ford', 'modelo': 'KA 1.5 SE', 'ano': 2023, 'cor': 'prata', 'volume_do_tanque': 30.0, 'velocidade_atual': 72.0, 'ligado': True}\n",
            "Carro parando ... 🚙⏩\n",
            "Carro parando ... 🚙⏩\n",
            "Carro parando ... 🚙⏩\n",
            "O carro parou ... 🚙⬇️\n",
            "{'marca': 'Ford', 'modelo': 'KA 1.5 SE', 'ano': 2023, 'cor': 'prata', 'volume_do_tanque': 30.0, 'velocidade_atual': 0, 'ligado': True}\n",
            "Carro desligando ... tchau tchau! 🚙👋\n",
            "{'marca': 'Ford', 'modelo': 'KA 1.5 SE', 'ano': 2023, 'cor': 'prata', 'volume_do_tanque': 30.0, 'velocidade_atual': 0, 'ligado': False}\n"
          ]
        }
      ],
      "source": [
        "meu_carro = Carro('Ford','KA 1.5 SE', 2023, 'prata', 45)\n",
        "print(meu_carro)\n",
        "meu_carro.ligar()\n",
        "print(meu_carro)\n",
        "\n",
        "for tempo in [10,20,30]:\n",
        "    meu_carro.acelerar(tempo)\n",
        "\n",
        "print(meu_carro)\n",
        "\n",
        "for tempo in [30,40,50]:\n",
        "    meu_carro.frear(tempo)\n",
        "\n",
        "print(meu_carro)\n",
        "meu_carro.desligar()\n",
        "print(meu_carro)"
      ]
    },
    {
      "cell_type": "markdown",
      "metadata": {
        "id": "48jjF0lRG3O0"
      },
      "source": [
        "Para evitar que um atributo específico de uma classe seja alterado fora da própria classe, você pode utilizar a convenção de atributos protegidos (ou \"protected attributes\") em Python. A ideia é prefixar o nome do atributo com um sublinhado único (_), indicando que ele é um atributo protegido e que não deve ser acessado diretamente fora da classe. Embora isso não impeça completamente a alteração, serve como uma indicação de que o atributo não deve ser modificado externamente.\n"
      ]
    },
    {
      "cell_type": "code",
      "execution_count": null,
      "metadata": {
        "id": "9gpP9PNaC0_G"
      },
      "outputs": [],
      "source": [
        "class Carro:\n",
        "    def __init__(self, marca, modelo, ano, cor, tanque):\n",
        "        print('Carro criado ... 🚙🐣')\n",
        "        self._marca = marca\n",
        "        self._modelo = modelo\n",
        "        self._ano = ano\n",
        "        self._cor = cor\n",
        "        self._tanque = tanque\n",
        "        self._velocidade = 0\n",
        "        self._ligado = False\n",
        "\n",
        "    def __str__(self):\n",
        "        return str(dict(marca = self._marca, modelo = self._modelo, ano = self._ano,\n",
        "                    cor = self._cor, volume_do_tanque = self._tanque,\n",
        "                    velocidade_atual = self._velocidade, ligado = self._ligado))\n",
        "\n",
        "    def ligar(self):\n",
        "        if self._ligado:\n",
        "            print('O carro já está ligado! Pode iniciar sua viagem ... 🚙✔️')\n",
        "        else:\n",
        "            print('Carro ligado! Vrum vrum ... 🚙✔️')\n",
        "            self._ligado = True\n",
        "\n",
        "    def acelerar(self, tempo):\n",
        "        if self._ligado:\n",
        "            self._velocidade += 1.2*tempo\n",
        "            self._tanque -= (tempo/60)*15\n",
        "            print('Carro em movimento ... 🚙💨💨')\n",
        "        else:\n",
        "            print('O carro está desligado. Ligue o carro primeiro!')\n",
        "\n",
        "    def frear(self, tempo):\n",
        "        if self._ligado and self._velocidade != 0:\n",
        "            self._velocidade -= 0.8*tempo\n",
        "            print('Carro parando ... 🚙⏩')\n",
        "            if self._velocidade < 0:\n",
        "                self._velocidade = 0\n",
        "                print('O carro parou ... 🚙⬇️')\n",
        "        else:\n",
        "            ('O carro já está parado ... 🚙❌')\n",
        "\n",
        "    def desligar(self):\n",
        "        if self._ligado:\n",
        "            print('Carro desligando ... tchau tchau! 🚙👋')\n",
        "            self._ligado = False\n",
        "        else:\n",
        "            print('O carro já esta desligado! 🚙☠️')"
      ]
    },
    {
      "cell_type": "code",
      "execution_count": null,
      "metadata": {
        "colab": {
          "base_uri": "https://localhost:8080/"
        },
        "id": "dmd6x9K3_nRR",
        "outputId": "06cbd35d-15d1-4c8c-8d47-c31f9c64ad9c"
      },
      "outputs": [
        {
          "output_type": "stream",
          "name": "stdout",
          "text": [
            "Carro criado ... 🚙🐣\n",
            "{'marca': 'Ford', 'modelo': 'KA 1.5 SE', 'ano': 2023, 'cor': 'prata', 'volume_do_tanque': 45, 'velocidade_atual': 0, 'ligado': False}\n",
            "Carro ligado! Vrum vrum ... 🚙✔️\n",
            "{'marca': 'Ford', 'modelo': 'KA 1.5 SE', 'ano': 2023, 'cor': 'prata', 'volume_do_tanque': 45, 'velocidade_atual': 0, 'ligado': True}\n",
            "Carro em movimento ... 🚙💨💨\n",
            "Carro em movimento ... 🚙💨💨\n",
            "Carro em movimento ... 🚙💨💨\n",
            "{'marca': 'Ford', 'modelo': 'KA 1.5 SE', 'ano': 2023, 'cor': 'prata', 'volume_do_tanque': 30.0, 'velocidade_atual': 72.0, 'ligado': True}\n",
            "Carro parando ... 🚙⏩\n",
            "Carro parando ... 🚙⏩\n",
            "Carro parando ... 🚙⏩\n",
            "O carro parou ... 🚙⬇️\n",
            "{'marca': 'Ford', 'modelo': 'KA 1.5 SE', 'ano': 2023, 'cor': 'prata', 'volume_do_tanque': 30.0, 'velocidade_atual': 0, 'ligado': True}\n",
            "Carro desligando ... tchau tchau! 🚙👋\n",
            "{'marca': 'Ford', 'modelo': 'KA 1.5 SE', 'ano': 2023, 'cor': 'prata', 'volume_do_tanque': 30.0, 'velocidade_atual': 0, 'ligado': False}\n"
          ]
        }
      ],
      "source": [
        "meu_carro = Carro('Ford','KA 1.5 SE', 2023, 'prata', 45)\n",
        "print(meu_carro)\n",
        "meu_carro.ligar()\n",
        "print(meu_carro)\n",
        "\n",
        "for tempo in [10,20,30]:\n",
        "    meu_carro.acelerar(tempo)\n",
        "\n",
        "print(meu_carro)\n",
        "\n",
        "for tempo in [30,40,50]:\n",
        "    meu_carro.frear(tempo)\n",
        "\n",
        "print(meu_carro)\n",
        "meu_carro.desligar()\n",
        "print(meu_carro)"
      ]
    },
    {
      "cell_type": "markdown",
      "metadata": {
        "id": "HGwl8pPWHV8X"
      },
      "source": [
        "Em python usamos a filosofia \"somos todos adultos\", ou seja, você confia que o programador que está utilizando a classe respeitará as convenções. O uso do sublinhado único é uma convenção para indicar que algo deve ser tratado como privado ou protegido, mas não é uma restrição rígida.\n",
        "\n",
        "\n",
        "\n",
        "\n",
        "\n"
      ]
    },
    {
      "cell_type": "markdown",
      "metadata": {
        "id": "PkXfNw4vIA73"
      },
      "source": [
        "## Herança e Polimorfismo\n",
        "\n",
        "Se quisermos construir outro tipo de carro aproveitando quase tudo que existe na classe Carro já existente, mas alterando o método `acelerar` o que devemos fazer? Podemos criar uma nova classe que **herda** da classe Carro e, em seguida, **sobrepor (ou redefinir)** o método `acelerar` conforme necessário.\n",
        "\n",
        "O exemplo acima demonstra bem os conceitos de herança e polimorfismo:\n",
        "\n",
        "**Herança**: É o conceito de criar uma nova classe (classe derivada ou subclasse) que herda atributos e métodos de uma classe existente (classe base ou superclasse). Isso promove a reutilização de código e a organização hierárquica de classes.\n",
        "\n",
        "**Polimorfismo**: É a capacidade de um método ser utilizado de maneiras diferentes com base no tipo do objeto que o chama. Em particular, a sobreposição de métodos em classes derivadas é um exemplo de polimorfismo, onde o mesmo método pode se comportar de maneira diferente em classes diferentes.\n"
      ]
    },
    {
      "cell_type": "code",
      "execution_count": null,
      "metadata": {
        "id": "vpRnmBSBH90K"
      },
      "outputs": [],
      "source": [
        "class CarroEsportivo(Carro):\n",
        "\n",
        "    def __init__(self, marca, modelo, ano, cor, tanque, vip):\n",
        "        super().__init__(marca, modelo, ano, cor, tanque)\n",
        "        self.vip = vip\n",
        "\n",
        "    def acelerar(self, tempo):\n",
        "        if self._ligado:\n",
        "            self._velocidade += 3.2*tempo\n",
        "            self._tanque -= (tempo/60)*18\n",
        "            print('Carro em movimento ... 🚙💨💨')\n",
        "        else:\n",
        "            print('O carro está desligado. Ligue o carro primeiro!')"
      ]
    },
    {
      "cell_type": "code",
      "execution_count": null,
      "metadata": {
        "colab": {
          "base_uri": "https://localhost:8080/"
        },
        "id": "86UtBl-v67Nu",
        "outputId": "72b7eb8d-34d2-47aa-989d-24242a1d7080"
      },
      "outputs": [
        {
          "output_type": "stream",
          "name": "stdout",
          "text": [
            "Carro criado ... 🚙🐣\n"
          ]
        }
      ],
      "source": [
        "meu_carro = CarroEsportivo('Porsche','911 3.0', 2024, 'grafite', 80, True)"
      ]
    },
    {
      "cell_type": "markdown",
      "metadata": {
        "id": "HF0DZL6e9nO4"
      },
      "source": [
        "Quando estamos trabalhando com herança em Python e desejamos adicionar mais atributos na classe derivada (subclasse) a sintaxe `super` pode ser utilizada."
      ]
    },
    {
      "cell_type": "code",
      "execution_count": null,
      "metadata": {
        "colab": {
          "base_uri": "https://localhost:8080/"
        },
        "id": "eRsJVRAqH9s0",
        "outputId": "96938f59-7290-44f5-a6e9-7471172e7651"
      },
      "outputs": [
        {
          "output_type": "stream",
          "name": "stdout",
          "text": [
            "Carro criado ... 🚙🐣\n",
            "{'marca': 'Porsche', 'modelo': '911 3.0', 'ano': 2024, 'cor': 'grafite', 'volume_do_tanque': 80, 'velocidade_atual': 0, 'ligado': False}\n",
            "Carro ligado! Vrum vrum ... 🚙✔️\n",
            "{'marca': 'Porsche', 'modelo': '911 3.0', 'ano': 2024, 'cor': 'grafite', 'volume_do_tanque': 80, 'velocidade_atual': 0, 'ligado': True}\n",
            "Carro em movimento ... 🚙💨💨\n",
            "Carro em movimento ... 🚙💨💨\n",
            "Carro em movimento ... 🚙💨💨\n",
            "{'marca': 'Porsche', 'modelo': '911 3.0', 'ano': 2024, 'cor': 'grafite', 'volume_do_tanque': 62.0, 'velocidade_atual': 192.0, 'ligado': True}\n",
            "Carro parando ... 🚙⏩\n",
            "Carro parando ... 🚙⏩\n",
            "Carro parando ... 🚙⏩\n",
            "{'marca': 'Porsche', 'modelo': '911 3.0', 'ano': 2024, 'cor': 'grafite', 'volume_do_tanque': 62.0, 'velocidade_atual': 96.0, 'ligado': True}\n",
            "Carro desligando ... tchau tchau! 🚙👋\n",
            "{'marca': 'Porsche', 'modelo': '911 3.0', 'ano': 2024, 'cor': 'grafite', 'volume_do_tanque': 62.0, 'velocidade_atual': 96.0, 'ligado': False}\n"
          ]
        }
      ],
      "source": [
        "meu_carro = CarroEsportivo('Porsche','911 3.0', 2024, 'grafite', 80, True)\n",
        "print(meu_carro)\n",
        "meu_carro.ligar()\n",
        "print(meu_carro)\n",
        "\n",
        "for tempo in [10,20,30]:\n",
        "    meu_carro.acelerar(tempo)\n",
        "\n",
        "print(meu_carro)\n",
        "\n",
        "for tempo in [30,40,50]:\n",
        "    meu_carro.frear(tempo)\n",
        "\n",
        "print(meu_carro)\n",
        "meu_carro.desligar()\n",
        "print(meu_carro)"
      ]
    },
    {
      "cell_type": "markdown",
      "metadata": {
        "id": "U54q5iiESG5E"
      },
      "source": [
        "![image.png](data:image/png;base64,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)"
      ]
    },
    {
      "cell_type": "code",
      "execution_count": null,
      "metadata": {
        "id": "gmliucABW81i"
      },
      "outputs": [],
      "source": [
        "ls_carros = [\n",
        "    {'marca':'Honda',\n",
        "     'modelo':'HR-V 1.5 Touring',\n",
        "     'ano':2023,\n",
        "     'cor':'azul',\n",
        "     'tanque':55\n",
        "    },\n",
        "\n",
        "    {'marca':'Ford',\n",
        "     'modelo':'KA 1.5 SE',\n",
        "     'ano':2018,\n",
        "     'cor':'prata',\n",
        "     'tanque':45\n",
        "    }\n",
        "]"
      ]
    },
    {
      "cell_type": "code",
      "execution_count": null,
      "metadata": {
        "colab": {
          "base_uri": "https://localhost:8080/"
        },
        "id": "Ahp7RxjrW8zK",
        "outputId": "a95137ad-0b90-47e4-800f-60b3d33333b8"
      },
      "outputs": [
        {
          "output_type": "stream",
          "name": "stdout",
          "text": [
            "Carro criado ... 🚙🐣\n",
            "{'marca': 'Honda', 'modelo': 'HR-V 1.5 Touring', 'ano': 2023, 'cor': 'azul', 'volume_do_tanque': 55, 'velocidade_atual': 0, 'ligado': False}\n"
          ]
        }
      ],
      "source": [
        "carro_1 = Carro(**ls_carros[0])\n",
        "print(carro_1)"
      ]
    },
    {
      "cell_type": "code",
      "execution_count": null,
      "metadata": {
        "colab": {
          "base_uri": "https://localhost:8080/"
        },
        "id": "yMM-3D5BW8wU",
        "outputId": "564b5ecf-0aa1-4655-b3c4-ba3ec61a27f6"
      },
      "outputs": [
        {
          "output_type": "stream",
          "name": "stdout",
          "text": [
            "Carro criado ... 🚙🐣\n",
            "{'marca': 'Ford', 'modelo': 'KA 1.5 SE', 'ano': 2018, 'cor': 'prata', 'volume_do_tanque': 45, 'velocidade_atual': 0, 'ligado': False}\n"
          ]
        }
      ],
      "source": [
        "carro_2 = Carro(**ls_carros[1])\n",
        "print(carro_2)"
      ]
    },
    {
      "cell_type": "markdown",
      "metadata": {
        "id": "6TJiKQxKZsvE"
      },
      "source": [
        "## @property\n",
        "\n",
        "O `@property` é um decorador em Python que é usado para transformar um método em uma propriedade. Ele permite que você acesse um método como se fosse um atributo, sem a necessidade de chamá-lo explicitamente como uma função.\n",
        "\n",
        "Para entender melhor, vamos considerar um exemplo simples:"
      ]
    },
    {
      "cell_type": "code",
      "execution_count": null,
      "metadata": {
        "id": "mJ-c0NN7aA5_"
      },
      "outputs": [],
      "source": [
        "class Circulo:\n",
        "    def __init__(self, raio):\n",
        "        self._raio = raio\n",
        "        self.centro = (0,0)\n",
        "\n",
        "    def area(self):\n",
        "        return 3.14 * self._raio ** 2\n",
        "\n",
        "    def get_centro(self):\n",
        "        return self.centro\n",
        "\n",
        "    def set_centro(self,coord):\n",
        "        self.centro = coord"
      ]
    },
    {
      "cell_type": "markdown",
      "metadata": {
        "id": "julAHiHiaDEy"
      },
      "source": [
        "Neste exemplo, a classe `Circulo` tem um atributo `_raio` e um método `area`. O método `area` calcula a área do círculo com base no raio. Ao adicionar `@property` acima do método area, transformamos esse método em uma propriedade."
      ]
    },
    {
      "cell_type": "code",
      "execution_count": null,
      "metadata": {
        "colab": {
          "base_uri": "https://localhost:8080/"
        },
        "id": "ZzJKPcGXaA3-",
        "outputId": "28a2a11c-5b0d-47ec-a33c-3098f7bd8e57"
      },
      "outputs": [
        {
          "output_type": "execute_result",
          "data": {
            "text/plain": [
              "452.16"
            ]
          },
          "metadata": {},
          "execution_count": 110
        }
      ],
      "source": [
        "circulo = Circulo(raio=12)\n",
        "circulo.area # Acesso como se fosse um atributo, não uma chamada de método"
      ]
    },
    {
      "cell_type": "code",
      "source": [
        "circulo.get_centro()"
      ],
      "metadata": {
        "colab": {
          "base_uri": "https://localhost:8080/"
        },
        "id": "7r01LTzlhkvD",
        "outputId": "5644473e-2b07-458e-9bd2-6a4eb9a8611c"
      },
      "execution_count": null,
      "outputs": [
        {
          "output_type": "execute_result",
          "data": {
            "text/plain": [
              "(0, 0)"
            ]
          },
          "metadata": {},
          "execution_count": 111
        }
      ]
    },
    {
      "cell_type": "code",
      "source": [
        "circulo.set_centro((12,2))"
      ],
      "metadata": {
        "id": "B-CadAhuh2ZH"
      },
      "execution_count": null,
      "outputs": []
    },
    {
      "cell_type": "code",
      "source": [
        "circulo.get_centro()"
      ],
      "metadata": {
        "colab": {
          "base_uri": "https://localhost:8080/"
        },
        "id": "1O0RzQZHh5Cu",
        "outputId": "d5143dcb-ca8a-4758-b7de-9e8c16d42094"
      },
      "execution_count": null,
      "outputs": [
        {
          "output_type": "execute_result",
          "data": {
            "text/plain": [
              "(12, 2)"
            ]
          },
          "metadata": {},
          "execution_count": 113
        }
      ]
    },
    {
      "cell_type": "code",
      "execution_count": null,
      "metadata": {
        "id": "mZqLjj3haA1u"
      },
      "outputs": [],
      "source": [
        "class Circulo:\n",
        "    def __init__(self, raio):\n",
        "        print(\"> Círculo criado ...\")\n",
        "        print(\">> Raio definido ...\")\n",
        "        self.raio = raio\n",
        "\n",
        "    @property\n",
        "    def area(self):\n",
        "        print('>>> Área calculada ...')\n",
        "        return 3.14 * self.raio ** 2\n",
        "\n",
        "    def change_raio(self,novo_raio):\n",
        "        print('Alterando o valor de raio ...')\n",
        "        self.raio = novo_raio"
      ]
    },
    {
      "cell_type": "code",
      "execution_count": null,
      "metadata": {
        "colab": {
          "base_uri": "https://localhost:8080/"
        },
        "id": "Hc80qtnBaAzf",
        "outputId": "2f291703-fd35-438e-acde-cf6efb2012cf"
      },
      "outputs": [
        {
          "output_type": "stream",
          "name": "stdout",
          "text": [
            "> Círculo criado ...\n",
            ">> Raio definido ...\n",
            ">>> Área calculada ...\n",
            "A área atual é: 452.16\n",
            "\n",
            "Alterando o valor de raio ...\n",
            "\n",
            ">>> Área calculada ...\n",
            "A área nova é: 706.5\n"
          ]
        }
      ],
      "source": [
        "circulo = Circulo(raio=12)\n",
        "print(f'A área atual é: {circulo.area}')\n",
        "print()\n",
        "circulo.change_raio(novo_raio=15)\n",
        "print()\n",
        "print(f'A área nova é: {circulo.area}')"
      ]
    },
    {
      "cell_type": "markdown",
      "metadata": {
        "id": "P5uDtCkDbjSw"
      },
      "source": [
        "Em resumo, `@property` é uma ferramenta útil para criar propriedades em classes Python, permitindo um acesso mais intuitivo e fornecendo um nível adicional de controle sobre o comportamento do atributo.\n",
        "\n",
        "\n",
        "\n",
        "\n",
        "\n"
      ]
    },
    {
      "cell_type": "markdown",
      "metadata": {
        "id": "FGqfJlS9YJDS"
      },
      "source": [
        "## Regras de estilo (PEP8)\n",
        "___\n",
        "\n",
        "Ao escrever classes em Python, é importante seguir algumas regras de estilo para garantir um código claro, legível e consistente. As diretrizes mais importantes vêm do guia de estilo PEP 8, que é uma referência comum para a comunidade Python.\n",
        "\n",
        " Aqui estão algumas regras importantes relacionadas a classes:\n",
        "\n",
        "1. **Nomes de Classe**: Use `CamelCase` para nomes de classe, começando com uma letra maiúscula. Por exemplo:\n",
        "\n",
        "```python\n",
        "class MinhaClasse:\n",
        "    pass\n",
        "```\n",
        "2. **Nomes de Métodos e Atributos**: Use minúsculas e palavras separadas por sublinhados para nomes de métodos e atributos. Por exemplo:\n",
        "\n",
        "```python\n",
        "class Exemplo:\n",
        "    def metodo_exemplo(self):\n",
        "        self.atributo_exemplo = 42\n",
        "\n",
        "```\n",
        "3. **Convenção de _**: Se um atributo ou método não for para uso público (considerado como \"privado\" ou \"protegido\"), pode-se usar um sublinhado único como prefixo. Isso indica que o atributo ou método não deve ser acessado diretamente fora da classe.\n",
        "\n",
        "```python\n",
        "class Exemplo:\n",
        "    def __init__(self):\n",
        "        self._atributo_protegido = 42\n",
        "\n",
        "    def _metodo_protegido(self):\n",
        "        pass\n",
        "\n",
        "```\n",
        "4. **Documentação**: Forneça documentação para suas classes e métodos. Use docstrings para explicar o propósito e o comportamento da classe e de cada método.\n",
        "\n",
        "```python\n",
        "class Calculadora:\n",
        "    \"\"\"Uma classe simples para operações matemáticas básicas.\"\"\"\n",
        "\n",
        "    def soma(self, a, b):\n",
        "        \"\"\"Retorna a soma de dois números.\"\"\"\n",
        "        return a + b\n",
        "\n",
        "```\n",
        "\n",
        "5. **Evite Métodos Longos**: Mantenha os métodos curtos e focados em uma única responsabilidade. Se um método estiver ficando muito longo, considere dividí-lo em métodos menores.\n",
        "\n",
        "6. **Evite Classes Muito Grandes**: Assim como métodos, evite classes muito grandes. Classes devem ter uma única responsabilidade e serem facilmente compreensíveis.\n",
        "\n",
        "7. **Evite Herança Profunda**: Não crie hierarquias de herança profundas, pois isso pode tornar o código complexo e difícil de entender. Priorize a composição e interfaces claras.\n",
        "\n",
        "\n",
        "\n",
        "\n",
        "\n"
      ]
    },
    {
      "cell_type": "markdown",
      "metadata": {
        "id": "CEZNU9F2TxHy"
      },
      "source": [
        "## PyDantic\n",
        "\n",
        "O Pydantic é uma biblioteca Python que fornece uma maneira simples e declarativa de validar dados em Python. Ele é frequentemente usado em conjunto com classes para definir modelos de dados, realizar validações e simplificar a serialização e desserialização de dados.\n",
        "\n",
        "\n"
      ]
    },
    {
      "cell_type": "code",
      "execution_count": null,
      "metadata": {
        "id": "B3FZPbzOTwlM"
      },
      "outputs": [],
      "source": [
        "from pydantic import BaseModel"
      ]
    },
    {
      "cell_type": "code",
      "execution_count": null,
      "metadata": {
        "id": "AQqRFalmUaK1"
      },
      "outputs": [],
      "source": [
        "class Pessoa(BaseModel):\n",
        "    nome:str\n",
        "    idade:int\n",
        "    naturalidade:str\n",
        "\n",
        "    def comer(self):\n",
        "        return 'estou com fome'"
      ]
    },
    {
      "cell_type": "code",
      "execution_count": null,
      "metadata": {
        "colab": {
          "base_uri": "https://localhost:8080/"
        },
        "id": "82kUTZWnUaIi",
        "outputId": "72e5eb19-cf1c-43de-8f99-2d06c693f659"
      },
      "outputs": [
        {
          "output_type": "stream",
          "name": "stdout",
          "text": [
            "nome='nasser' idade=32 naturalidade='Araxá'\n"
          ]
        }
      ],
      "source": [
        "p1 = Pessoa(nome='nasser', idade=32, naturalidade='Araxá')\n",
        "print(p1)"
      ]
    },
    {
      "cell_type": "code",
      "source": [
        "p1.comer()"
      ],
      "metadata": {
        "colab": {
          "base_uri": "https://localhost:8080/",
          "height": 35
        },
        "id": "k_8S9dLNk0S0",
        "outputId": "4ee24a80-1f2f-428f-9959-0f53b09e9ebe"
      },
      "execution_count": null,
      "outputs": [
        {
          "output_type": "execute_result",
          "data": {
            "text/plain": [
              "'estou com fome'"
            ],
            "application/vnd.google.colaboratory.intrinsic+json": {
              "type": "string"
            }
          },
          "metadata": {},
          "execution_count": 136
        }
      ]
    },
    {
      "cell_type": "code",
      "execution_count": null,
      "metadata": {
        "colab": {
          "base_uri": "https://localhost:8080/",
          "height": 263
        },
        "id": "DvBLA3LhUaCu",
        "outputId": "c8c8f03f-b3ce-4d2e-b63a-7ff253757f39"
      },
      "outputs": [
        {
          "output_type": "error",
          "ename": "ValidationError",
          "evalue": "ignored",
          "traceback": [
            "\u001b[0;31m---------------------------------------------------------------------------\u001b[0m",
            "\u001b[0;31mValidationError\u001b[0m                           Traceback (most recent call last)",
            "\u001b[0;32m<ipython-input-132-2a73be3b7b5d>\u001b[0m in \u001b[0;36m<cell line: 1>\u001b[0;34m()\u001b[0m\n\u001b[0;32m----> 1\u001b[0;31m \u001b[0mp1\u001b[0m \u001b[0;34m=\u001b[0m \u001b[0mPessoa\u001b[0m\u001b[0;34m(\u001b[0m\u001b[0midade\u001b[0m\u001b[0;34m=\u001b[0m\u001b[0;36m32\u001b[0m\u001b[0;34m,\u001b[0m \u001b[0mnaturalidade\u001b[0m\u001b[0;34m=\u001b[0m\u001b[0;34m'Araxá'\u001b[0m\u001b[0;34m)\u001b[0m\u001b[0;34m\u001b[0m\u001b[0;34m\u001b[0m\u001b[0m\n\u001b[0m\u001b[1;32m      2\u001b[0m \u001b[0mprint\u001b[0m\u001b[0;34m(\u001b[0m\u001b[0mp1\u001b[0m\u001b[0;34m)\u001b[0m\u001b[0;34m\u001b[0m\u001b[0;34m\u001b[0m\u001b[0m\n",
            "\u001b[0;32m/usr/local/lib/python3.10/dist-packages/pydantic/main.cpython-310-x86_64-linux-gnu.so\u001b[0m in \u001b[0;36mpydantic.main.BaseModel.__init__\u001b[0;34m()\u001b[0m\n",
            "\u001b[0;31mValidationError\u001b[0m: 1 validation error for Pessoa\nnome\n  field required (type=value_error.missing)"
          ]
        }
      ],
      "source": [
        "p1 = Pessoa(idade=32, naturalidade='Araxá')\n",
        "print(p1)"
      ]
    },
    {
      "cell_type": "code",
      "execution_count": null,
      "metadata": {
        "colab": {
          "base_uri": "https://localhost:8080/",
          "height": 280
        },
        "id": "ZKe2yha-V2Kj",
        "outputId": "70130906-8dac-4512-bc38-b46370a1142f"
      },
      "outputs": [
        {
          "output_type": "error",
          "ename": "ValidationError",
          "evalue": "ignored",
          "traceback": [
            "\u001b[0;31m---------------------------------------------------------------------------\u001b[0m",
            "\u001b[0;31mValidationError\u001b[0m                           Traceback (most recent call last)",
            "\u001b[0;32m<ipython-input-133-135f6146039a>\u001b[0m in \u001b[0;36m<cell line: 3>\u001b[0;34m()\u001b[0m\n\u001b[1;32m      1\u001b[0m \u001b[0mdc_pessoa\u001b[0m \u001b[0;34m=\u001b[0m \u001b[0;34m{\u001b[0m\u001b[0;34m'nome'\u001b[0m\u001b[0;34m:\u001b[0m\u001b[0;34m'nasser'\u001b[0m\u001b[0;34m,\u001b[0m\u001b[0;34m'idade'\u001b[0m\u001b[0;34m:\u001b[0m\u001b[0;34m'Araxá'\u001b[0m\u001b[0;34m,\u001b[0m\u001b[0;34m'naturalidade'\u001b[0m\u001b[0;34m:\u001b[0m\u001b[0;36m33\u001b[0m\u001b[0;34m}\u001b[0m\u001b[0;34m\u001b[0m\u001b[0;34m\u001b[0m\u001b[0m\n\u001b[1;32m      2\u001b[0m \u001b[0;34m\u001b[0m\u001b[0m\n\u001b[0;32m----> 3\u001b[0;31m \u001b[0mPessoa\u001b[0m\u001b[0;34m(\u001b[0m\u001b[0;34m**\u001b[0m\u001b[0mdc_pessoa\u001b[0m\u001b[0;34m)\u001b[0m\u001b[0;34m\u001b[0m\u001b[0;34m\u001b[0m\u001b[0m\n\u001b[0m",
            "\u001b[0;32m/usr/local/lib/python3.10/dist-packages/pydantic/main.cpython-310-x86_64-linux-gnu.so\u001b[0m in \u001b[0;36mpydantic.main.BaseModel.__init__\u001b[0;34m()\u001b[0m\n",
            "\u001b[0;31mValidationError\u001b[0m: 1 validation error for Pessoa\nidade\n  value is not a valid integer (type=type_error.integer)"
          ]
        }
      ],
      "source": [
        "dc_pessoa = {'nome':'nasser','idade':'Araxá','naturalidade':33}\n",
        "\n",
        "Pessoa(**dc_pessoa)"
      ]
    },
    {
      "cell_type": "markdown",
      "source": [
        "## POO em outras bibliotecas\n",
        "___"
      ],
      "metadata": {
        "id": "ZtUMu0-ou4c0"
      }
    },
    {
      "cell_type": "code",
      "source": [
        "from sklearn.linear_model import LinearRegression"
      ],
      "metadata": {
        "id": "N7GmUgmJ6aJr"
      },
      "execution_count": null,
      "outputs": []
    },
    {
      "cell_type": "code",
      "source": [
        "lr = LinearRegression()"
      ],
      "metadata": {
        "id": "Dddb__S06aGz"
      },
      "execution_count": null,
      "outputs": []
    },
    {
      "cell_type": "markdown",
      "source": [
        "<img src=\"https://i.ibb.co/hBf1vVF/lr.png\" alt=\"lr\" border=\"0\" width=400>"
      ],
      "metadata": {
        "id": "VLZXXGXL2bJE"
      }
    },
    {
      "cell_type": "code",
      "source": [
        "lr.coef_"
      ],
      "metadata": {
        "colab": {
          "base_uri": "https://localhost:8080/",
          "height": 176
        },
        "id": "n9j0LqkYk5_K",
        "outputId": "71f1f44d-6656-418f-a59c-34b65fc64b58"
      },
      "execution_count": null,
      "outputs": [
        {
          "output_type": "error",
          "ename": "AttributeError",
          "evalue": "ignored",
          "traceback": [
            "\u001b[0;31m---------------------------------------------------------------------------\u001b[0m",
            "\u001b[0;31mAttributeError\u001b[0m                            Traceback (most recent call last)",
            "\u001b[0;32m<ipython-input-143-4fecb702b9d5>\u001b[0m in \u001b[0;36m<cell line: 1>\u001b[0;34m()\u001b[0m\n\u001b[0;32m----> 1\u001b[0;31m \u001b[0mlr\u001b[0m\u001b[0;34m.\u001b[0m\u001b[0mcoef_\u001b[0m\u001b[0;34m\u001b[0m\u001b[0;34m\u001b[0m\u001b[0m\n\u001b[0m",
            "\u001b[0;31mAttributeError\u001b[0m: 'LinearRegression' object has no attribute 'coef_'"
          ]
        }
      ]
    },
    {
      "cell_type": "code",
      "source": [
        "df = (\n",
        "    pd.DataFrame([[10,12,25],[5,2,-1]]).T\n",
        "    .rename(columns={0:'x1',1:'y'})\n",
        "    .assign(x2 = [1,2,3])\n",
        ")\n",
        "\n",
        "df.head()"
      ],
      "metadata": {
        "colab": {
          "base_uri": "https://localhost:8080/",
          "height": 143
        },
        "id": "Dpq92N_zlfmw",
        "outputId": "0dc703ef-d1fd-40dc-e477-0272c2e54826"
      },
      "execution_count": null,
      "outputs": [
        {
          "output_type": "execute_result",
          "data": {
            "text/plain": [
              "   x1  y  x2\n",
              "0  10  5   1\n",
              "1  12  2   2\n",
              "2  25 -1   3"
            ],
            "text/html": [
              "\n",
              "  <div id=\"df-82876199-04da-48b6-8038-02ce76d9d614\" class=\"colab-df-container\">\n",
              "    <div>\n",
              "<style scoped>\n",
              "    .dataframe tbody tr th:only-of-type {\n",
              "        vertical-align: middle;\n",
              "    }\n",
              "\n",
              "    .dataframe tbody tr th {\n",
              "        vertical-align: top;\n",
              "    }\n",
              "\n",
              "    .dataframe thead th {\n",
              "        text-align: right;\n",
              "    }\n",
              "</style>\n",
              "<table border=\"1\" class=\"dataframe\">\n",
              "  <thead>\n",
              "    <tr style=\"text-align: right;\">\n",
              "      <th></th>\n",
              "      <th>x1</th>\n",
              "      <th>y</th>\n",
              "      <th>x2</th>\n",
              "    </tr>\n",
              "  </thead>\n",
              "  <tbody>\n",
              "    <tr>\n",
              "      <th>0</th>\n",
              "      <td>10</td>\n",
              "      <td>5</td>\n",
              "      <td>1</td>\n",
              "    </tr>\n",
              "    <tr>\n",
              "      <th>1</th>\n",
              "      <td>12</td>\n",
              "      <td>2</td>\n",
              "      <td>2</td>\n",
              "    </tr>\n",
              "    <tr>\n",
              "      <th>2</th>\n",
              "      <td>25</td>\n",
              "      <td>-1</td>\n",
              "      <td>3</td>\n",
              "    </tr>\n",
              "  </tbody>\n",
              "</table>\n",
              "</div>\n",
              "    <div class=\"colab-df-buttons\">\n",
              "\n",
              "  <div class=\"colab-df-container\">\n",
              "    <button class=\"colab-df-convert\" onclick=\"convertToInteractive('df-82876199-04da-48b6-8038-02ce76d9d614')\"\n",
              "            title=\"Convert this dataframe to an interactive table.\"\n",
              "            style=\"display:none;\">\n",
              "\n",
              "  <svg xmlns=\"http://www.w3.org/2000/svg\" height=\"24px\" viewBox=\"0 -960 960 960\">\n",
              "    <path d=\"M120-120v-720h720v720H120Zm60-500h600v-160H180v160Zm220 220h160v-160H400v160Zm0 220h160v-160H400v160ZM180-400h160v-160H180v160Zm440 0h160v-160H620v160ZM180-180h160v-160H180v160Zm440 0h160v-160H620v160Z\"/>\n",
              "  </svg>\n",
              "    </button>\n",
              "\n",
              "  <style>\n",
              "    .colab-df-container {\n",
              "      display:flex;\n",
              "      gap: 12px;\n",
              "    }\n",
              "\n",
              "    .colab-df-convert {\n",
              "      background-color: #E8F0FE;\n",
              "      border: none;\n",
              "      border-radius: 50%;\n",
              "      cursor: pointer;\n",
              "      display: none;\n",
              "      fill: #1967D2;\n",
              "      height: 32px;\n",
              "      padding: 0 0 0 0;\n",
              "      width: 32px;\n",
              "    }\n",
              "\n",
              "    .colab-df-convert:hover {\n",
              "      background-color: #E2EBFA;\n",
              "      box-shadow: 0px 1px 2px rgba(60, 64, 67, 0.3), 0px 1px 3px 1px rgba(60, 64, 67, 0.15);\n",
              "      fill: #174EA6;\n",
              "    }\n",
              "\n",
              "    .colab-df-buttons div {\n",
              "      margin-bottom: 4px;\n",
              "    }\n",
              "\n",
              "    [theme=dark] .colab-df-convert {\n",
              "      background-color: #3B4455;\n",
              "      fill: #D2E3FC;\n",
              "    }\n",
              "\n",
              "    [theme=dark] .colab-df-convert:hover {\n",
              "      background-color: #434B5C;\n",
              "      box-shadow: 0px 1px 3px 1px rgba(0, 0, 0, 0.15);\n",
              "      filter: drop-shadow(0px 1px 2px rgba(0, 0, 0, 0.3));\n",
              "      fill: #FFFFFF;\n",
              "    }\n",
              "  </style>\n",
              "\n",
              "    <script>\n",
              "      const buttonEl =\n",
              "        document.querySelector('#df-82876199-04da-48b6-8038-02ce76d9d614 button.colab-df-convert');\n",
              "      buttonEl.style.display =\n",
              "        google.colab.kernel.accessAllowed ? 'block' : 'none';\n",
              "\n",
              "      async function convertToInteractive(key) {\n",
              "        const element = document.querySelector('#df-82876199-04da-48b6-8038-02ce76d9d614');\n",
              "        const dataTable =\n",
              "          await google.colab.kernel.invokeFunction('convertToInteractive',\n",
              "                                                    [key], {});\n",
              "        if (!dataTable) return;\n",
              "\n",
              "        const docLinkHtml = 'Like what you see? Visit the ' +\n",
              "          '<a target=\"_blank\" href=https://colab.research.google.com/notebooks/data_table.ipynb>data table notebook</a>'\n",
              "          + ' to learn more about interactive tables.';\n",
              "        element.innerHTML = '';\n",
              "        dataTable['output_type'] = 'display_data';\n",
              "        await google.colab.output.renderOutput(dataTable, element);\n",
              "        const docLink = document.createElement('div');\n",
              "        docLink.innerHTML = docLinkHtml;\n",
              "        element.appendChild(docLink);\n",
              "      }\n",
              "    </script>\n",
              "  </div>\n",
              "\n",
              "\n",
              "<div id=\"df-d4f0e702-22ae-43db-9b68-c1b72e0bff86\">\n",
              "  <button class=\"colab-df-quickchart\" onclick=\"quickchart('df-d4f0e702-22ae-43db-9b68-c1b72e0bff86')\"\n",
              "            title=\"Suggest charts\"\n",
              "            style=\"display:none;\">\n",
              "\n",
              "<svg xmlns=\"http://www.w3.org/2000/svg\" height=\"24px\"viewBox=\"0 0 24 24\"\n",
              "     width=\"24px\">\n",
              "    <g>\n",
              "        <path d=\"M19 3H5c-1.1 0-2 .9-2 2v14c0 1.1.9 2 2 2h14c1.1 0 2-.9 2-2V5c0-1.1-.9-2-2-2zM9 17H7v-7h2v7zm4 0h-2V7h2v10zm4 0h-2v-4h2v4z\"/>\n",
              "    </g>\n",
              "</svg>\n",
              "  </button>\n",
              "\n",
              "<style>\n",
              "  .colab-df-quickchart {\n",
              "      --bg-color: #E8F0FE;\n",
              "      --fill-color: #1967D2;\n",
              "      --hover-bg-color: #E2EBFA;\n",
              "      --hover-fill-color: #174EA6;\n",
              "      --disabled-fill-color: #AAA;\n",
              "      --disabled-bg-color: #DDD;\n",
              "  }\n",
              "\n",
              "  [theme=dark] .colab-df-quickchart {\n",
              "      --bg-color: #3B4455;\n",
              "      --fill-color: #D2E3FC;\n",
              "      --hover-bg-color: #434B5C;\n",
              "      --hover-fill-color: #FFFFFF;\n",
              "      --disabled-bg-color: #3B4455;\n",
              "      --disabled-fill-color: #666;\n",
              "  }\n",
              "\n",
              "  .colab-df-quickchart {\n",
              "    background-color: var(--bg-color);\n",
              "    border: none;\n",
              "    border-radius: 50%;\n",
              "    cursor: pointer;\n",
              "    display: none;\n",
              "    fill: var(--fill-color);\n",
              "    height: 32px;\n",
              "    padding: 0;\n",
              "    width: 32px;\n",
              "  }\n",
              "\n",
              "  .colab-df-quickchart:hover {\n",
              "    background-color: var(--hover-bg-color);\n",
              "    box-shadow: 0 1px 2px rgba(60, 64, 67, 0.3), 0 1px 3px 1px rgba(60, 64, 67, 0.15);\n",
              "    fill: var(--button-hover-fill-color);\n",
              "  }\n",
              "\n",
              "  .colab-df-quickchart-complete:disabled,\n",
              "  .colab-df-quickchart-complete:disabled:hover {\n",
              "    background-color: var(--disabled-bg-color);\n",
              "    fill: var(--disabled-fill-color);\n",
              "    box-shadow: none;\n",
              "  }\n",
              "\n",
              "  .colab-df-spinner {\n",
              "    border: 2px solid var(--fill-color);\n",
              "    border-color: transparent;\n",
              "    border-bottom-color: var(--fill-color);\n",
              "    animation:\n",
              "      spin 1s steps(1) infinite;\n",
              "  }\n",
              "\n",
              "  @keyframes spin {\n",
              "    0% {\n",
              "      border-color: transparent;\n",
              "      border-bottom-color: var(--fill-color);\n",
              "      border-left-color: var(--fill-color);\n",
              "    }\n",
              "    20% {\n",
              "      border-color: transparent;\n",
              "      border-left-color: var(--fill-color);\n",
              "      border-top-color: var(--fill-color);\n",
              "    }\n",
              "    30% {\n",
              "      border-color: transparent;\n",
              "      border-left-color: var(--fill-color);\n",
              "      border-top-color: var(--fill-color);\n",
              "      border-right-color: var(--fill-color);\n",
              "    }\n",
              "    40% {\n",
              "      border-color: transparent;\n",
              "      border-right-color: var(--fill-color);\n",
              "      border-top-color: var(--fill-color);\n",
              "    }\n",
              "    60% {\n",
              "      border-color: transparent;\n",
              "      border-right-color: var(--fill-color);\n",
              "    }\n",
              "    80% {\n",
              "      border-color: transparent;\n",
              "      border-right-color: var(--fill-color);\n",
              "      border-bottom-color: var(--fill-color);\n",
              "    }\n",
              "    90% {\n",
              "      border-color: transparent;\n",
              "      border-bottom-color: var(--fill-color);\n",
              "    }\n",
              "  }\n",
              "</style>\n",
              "\n",
              "  <script>\n",
              "    async function quickchart(key) {\n",
              "      const quickchartButtonEl =\n",
              "        document.querySelector('#' + key + ' button');\n",
              "      quickchartButtonEl.disabled = true;  // To prevent multiple clicks.\n",
              "      quickchartButtonEl.classList.add('colab-df-spinner');\n",
              "      try {\n",
              "        const charts = await google.colab.kernel.invokeFunction(\n",
              "            'suggestCharts', [key], {});\n",
              "      } catch (error) {\n",
              "        console.error('Error during call to suggestCharts:', error);\n",
              "      }\n",
              "      quickchartButtonEl.classList.remove('colab-df-spinner');\n",
              "      quickchartButtonEl.classList.add('colab-df-quickchart-complete');\n",
              "    }\n",
              "    (() => {\n",
              "      let quickchartButtonEl =\n",
              "        document.querySelector('#df-d4f0e702-22ae-43db-9b68-c1b72e0bff86 button');\n",
              "      quickchartButtonEl.style.display =\n",
              "        google.colab.kernel.accessAllowed ? 'block' : 'none';\n",
              "    })();\n",
              "  </script>\n",
              "</div>\n",
              "\n",
              "    </div>\n",
              "  </div>\n"
            ]
          },
          "metadata": {},
          "execution_count": 156
        }
      ]
    },
    {
      "cell_type": "code",
      "source": [
        "lr.fit(df[['x1','x2']],df.y)"
      ],
      "metadata": {
        "colab": {
          "base_uri": "https://localhost:8080/",
          "height": 74
        },
        "id": "PS76yU-_lNJC",
        "outputId": "41ef1b7b-cf74-436f-e7dc-feec5d0914bd"
      },
      "execution_count": null,
      "outputs": [
        {
          "output_type": "execute_result",
          "data": {
            "text/plain": [
              "LinearRegression()"
            ],
            "text/html": [
              "<style>#sk-container-id-2 {color: black;background-color: white;}#sk-container-id-2 pre{padding: 0;}#sk-container-id-2 div.sk-toggleable {background-color: white;}#sk-container-id-2 label.sk-toggleable__label {cursor: pointer;display: block;width: 100%;margin-bottom: 0;padding: 0.3em;box-sizing: border-box;text-align: center;}#sk-container-id-2 label.sk-toggleable__label-arrow:before {content: \"▸\";float: left;margin-right: 0.25em;color: #696969;}#sk-container-id-2 label.sk-toggleable__label-arrow:hover:before {color: black;}#sk-container-id-2 div.sk-estimator:hover label.sk-toggleable__label-arrow:before {color: black;}#sk-container-id-2 div.sk-toggleable__content {max-height: 0;max-width: 0;overflow: hidden;text-align: left;background-color: #f0f8ff;}#sk-container-id-2 div.sk-toggleable__content pre {margin: 0.2em;color: black;border-radius: 0.25em;background-color: #f0f8ff;}#sk-container-id-2 input.sk-toggleable__control:checked~div.sk-toggleable__content {max-height: 200px;max-width: 100%;overflow: auto;}#sk-container-id-2 input.sk-toggleable__control:checked~label.sk-toggleable__label-arrow:before {content: \"▾\";}#sk-container-id-2 div.sk-estimator input.sk-toggleable__control:checked~label.sk-toggleable__label {background-color: #d4ebff;}#sk-container-id-2 div.sk-label input.sk-toggleable__control:checked~label.sk-toggleable__label {background-color: #d4ebff;}#sk-container-id-2 input.sk-hidden--visually {border: 0;clip: rect(1px 1px 1px 1px);clip: rect(1px, 1px, 1px, 1px);height: 1px;margin: -1px;overflow: hidden;padding: 0;position: absolute;width: 1px;}#sk-container-id-2 div.sk-estimator {font-family: monospace;background-color: #f0f8ff;border: 1px dotted black;border-radius: 0.25em;box-sizing: border-box;margin-bottom: 0.5em;}#sk-container-id-2 div.sk-estimator:hover {background-color: #d4ebff;}#sk-container-id-2 div.sk-parallel-item::after {content: \"\";width: 100%;border-bottom: 1px solid gray;flex-grow: 1;}#sk-container-id-2 div.sk-label:hover label.sk-toggleable__label {background-color: #d4ebff;}#sk-container-id-2 div.sk-serial::before {content: \"\";position: absolute;border-left: 1px solid gray;box-sizing: border-box;top: 0;bottom: 0;left: 50%;z-index: 0;}#sk-container-id-2 div.sk-serial {display: flex;flex-direction: column;align-items: center;background-color: white;padding-right: 0.2em;padding-left: 0.2em;position: relative;}#sk-container-id-2 div.sk-item {position: relative;z-index: 1;}#sk-container-id-2 div.sk-parallel {display: flex;align-items: stretch;justify-content: center;background-color: white;position: relative;}#sk-container-id-2 div.sk-item::before, #sk-container-id-2 div.sk-parallel-item::before {content: \"\";position: absolute;border-left: 1px solid gray;box-sizing: border-box;top: 0;bottom: 0;left: 50%;z-index: -1;}#sk-container-id-2 div.sk-parallel-item {display: flex;flex-direction: column;z-index: 1;position: relative;background-color: white;}#sk-container-id-2 div.sk-parallel-item:first-child::after {align-self: flex-end;width: 50%;}#sk-container-id-2 div.sk-parallel-item:last-child::after {align-self: flex-start;width: 50%;}#sk-container-id-2 div.sk-parallel-item:only-child::after {width: 0;}#sk-container-id-2 div.sk-dashed-wrapped {border: 1px dashed gray;margin: 0 0.4em 0.5em 0.4em;box-sizing: border-box;padding-bottom: 0.4em;background-color: white;}#sk-container-id-2 div.sk-label label {font-family: monospace;font-weight: bold;display: inline-block;line-height: 1.2em;}#sk-container-id-2 div.sk-label-container {text-align: center;}#sk-container-id-2 div.sk-container {/* jupyter's `normalize.less` sets `[hidden] { display: none; }` but bootstrap.min.css set `[hidden] { display: none !important; }` so we also need the `!important` here to be able to override the default hidden behavior on the sphinx rendered scikit-learn.org. See: https://github.com/scikit-learn/scikit-learn/issues/21755 */display: inline-block !important;position: relative;}#sk-container-id-2 div.sk-text-repr-fallback {display: none;}</style><div id=\"sk-container-id-2\" class=\"sk-top-container\"><div class=\"sk-text-repr-fallback\"><pre>LinearRegression()</pre><b>In a Jupyter environment, please rerun this cell to show the HTML representation or trust the notebook. <br />On GitHub, the HTML representation is unable to render, please try loading this page with nbviewer.org.</b></div><div class=\"sk-container\" hidden><div class=\"sk-item\"><div class=\"sk-estimator sk-toggleable\"><input class=\"sk-toggleable__control sk-hidden--visually\" id=\"sk-estimator-id-2\" type=\"checkbox\" checked><label for=\"sk-estimator-id-2\" class=\"sk-toggleable__label sk-toggleable__label-arrow\">LinearRegression</label><div class=\"sk-toggleable__content\"><pre>LinearRegression()</pre></div></div></div></div></div>"
            ]
          },
          "metadata": {},
          "execution_count": 157
        }
      ]
    },
    {
      "cell_type": "code",
      "source": [
        "lr.coef_"
      ],
      "metadata": {
        "colab": {
          "base_uri": "https://localhost:8080/"
        },
        "id": "Cm-lVRPtlNGz",
        "outputId": "4c1e8ada-3ba5-45bb-cfeb-914daf5eb131"
      },
      "execution_count": null,
      "outputs": [
        {
          "output_type": "execute_result",
          "data": {
            "text/plain": [
              "array([-1.83669903e-16, -3.00000000e+00])"
            ]
          },
          "metadata": {},
          "execution_count": 158
        }
      ]
    },
    {
      "cell_type": "code",
      "source": [
        "lr.feature_names_in_"
      ],
      "metadata": {
        "colab": {
          "base_uri": "https://localhost:8080/"
        },
        "id": "V1QpyDgNlWW2",
        "outputId": "63b6e4fb-fae4-4ebe-99e9-2dd67c47772c"
      },
      "execution_count": null,
      "outputs": [
        {
          "output_type": "execute_result",
          "data": {
            "text/plain": [
              "array(['x1', 'x2'], dtype=object)"
            ]
          },
          "metadata": {},
          "execution_count": 159
        }
      ]
    },
    {
      "cell_type": "code",
      "source": [
        "dir(lr)"
      ],
      "metadata": {
        "id": "vXe7CBpd6aDq",
        "colab": {
          "base_uri": "https://localhost:8080/"
        },
        "outputId": "f17ebcac-7f96-4e8b-f01f-b2495ece2820"
      },
      "execution_count": null,
      "outputs": [
        {
          "output_type": "execute_result",
          "data": {
            "text/plain": [
              "['__abstractmethods__',\n",
              " '__annotations__',\n",
              " '__class__',\n",
              " '__delattr__',\n",
              " '__dict__',\n",
              " '__dir__',\n",
              " '__doc__',\n",
              " '__eq__',\n",
              " '__format__',\n",
              " '__ge__',\n",
              " '__getattribute__',\n",
              " '__getstate__',\n",
              " '__gt__',\n",
              " '__hash__',\n",
              " '__init__',\n",
              " '__init_subclass__',\n",
              " '__le__',\n",
              " '__lt__',\n",
              " '__module__',\n",
              " '__ne__',\n",
              " '__new__',\n",
              " '__reduce__',\n",
              " '__reduce_ex__',\n",
              " '__repr__',\n",
              " '__setattr__',\n",
              " '__setstate__',\n",
              " '__sizeof__',\n",
              " '__str__',\n",
              " '__subclasshook__',\n",
              " '__weakref__',\n",
              " '_abc_impl',\n",
              " '_check_feature_names',\n",
              " '_check_n_features',\n",
              " '_decision_function',\n",
              " '_estimator_type',\n",
              " '_get_param_names',\n",
              " '_get_tags',\n",
              " '_more_tags',\n",
              " '_parameter_constraints',\n",
              " '_repr_html_',\n",
              " '_repr_html_inner',\n",
              " '_repr_mimebundle_',\n",
              " '_set_intercept',\n",
              " '_validate_data',\n",
              " '_validate_params',\n",
              " 'copy_X',\n",
              " 'fit',\n",
              " 'fit_intercept',\n",
              " 'get_params',\n",
              " 'n_jobs',\n",
              " 'positive',\n",
              " 'predict',\n",
              " 'score',\n",
              " 'set_params']"
            ]
          },
          "metadata": {},
          "execution_count": 3
        }
      ]
    },
    {
      "cell_type": "markdown",
      "metadata": {
        "id": "tAVVB3FaTKgu"
      },
      "source": [
        "# Exercícios\n",
        "___"
      ]
    },
    {
      "cell_type": "code",
      "execution_count": null,
      "metadata": {
        "id": "wPR5io5Zbx93"
      },
      "outputs": [],
      "source": [
        "import numpy as np\n",
        "import pandas as pd\n",
        "import matplotlib.pyplot as plt\n",
        "import matplotlib.gridspec as gridspec\n",
        "from sklearn.preprocessing import ( OneHotEncoder, Normalizer, RobustScaler )\n",
        "from sklearn.pipeline import make_pipeline\n",
        "from sklearn.compose import make_column_transformer\n",
        "from sklearn.ensemble import IsolationForest\n",
        "from sklearn.decomposition import PCA\n",
        "import random\n",
        "import time\n",
        "\n",
        "from tqdm import tqdm\n",
        "np.random.seed(42)"
      ]
    },
    {
      "cell_type": "markdown",
      "source": [
        "## Exercício 1: Zoológico\n",
        "\n",
        "Você está criando um sistema para gerenciar animais de um zoológico. Crie uma classe chamada 'Animal' que tenha os seguintes atributos:\n",
        "\n",
        "* _nome_ (uma string que representa o nome do animal)\n",
        "* _especie_ (uma string que representa a espécie do animal)\n",
        "* _idade_ (um inteiro que representa a idade do animal)\n",
        "\n",
        "Além disso, crie um método chamado 'apresentar' que imprime uma mensagem informando o nome, a espécie e a idade do animal. Ao final, crie dois objetos da classe Animal e chame o método apresentar para cada um deles."
      ],
      "metadata": {
        "id": "PpnHHoHCfRXL"
      }
    },
    {
      "cell_type": "code",
      "source": [],
      "metadata": {
        "id": "zvZt0W77giTs"
      },
      "execution_count": null,
      "outputs": []
    },
    {
      "cell_type": "markdown",
      "source": [
        "## Exercício 2: Aves\n",
        "\n",
        "Agora, estenda a classe 'Animal' criando uma nova classe chamada 'Ave' que herda suas características. Adicione um novo atributo à classe 'Ave' chamado tipo_bico (uma string que representa o tipo de bico da ave).\n",
        "\n",
        "Além disso, modifique o método apresentar na classe Ave para incluir a informação sobre o tipo de bico. Crie um objeto da classe 'Ave' e chame o método apresentar para exibir todas as informações."
      ],
      "metadata": {
        "id": "4jqr2qOegnpZ"
      }
    },
    {
      "cell_type": "code",
      "source": [],
      "metadata": {
        "id": "gZMGQLIsgheu"
      },
      "execution_count": null,
      "outputs": []
    },
    {
      "cell_type": "markdown",
      "source": [
        "## Exercício 3: Streaming\n",
        "\n",
        "Você está trabalhando em um projeto de análise de dados para uma empresa de streaming de música. Crie uma classe chamada'Musica' com os atributos _titulo_, _artista_ e _reproducoes_, onde _reproducoes_ é o número de vezes que a música foi reproduzida.\n",
        "\n",
        "Utilize o decorator @property para criar métodos chamados _popularidade_ e _status_ que retornem, respectivamente, a popularidade da música com base no número de reproduções e o status da música (se é uma música popular ou não).\n",
        "\n",
        "Além disso, crie um método chamado _aumentar_reproducoes_ que permita aumentar o número de reproduções da música. Crie um objeto da classe 'Musica', aumente as reproduções usando o método _aumentar_reproducoes_, e chame os métodos popularidade e status para exibir os resultados."
      ],
      "metadata": {
        "id": "ZZAjkmIihEFc"
      }
    },
    {
      "cell_type": "code",
      "source": [],
      "metadata": {
        "id": "ShDVdJE9o3Qg"
      },
      "execution_count": null,
      "outputs": []
    },
    {
      "cell_type": "markdown",
      "metadata": {
        "id": "Yj0uZ7TaSgbW"
      },
      "source": [
        "## Exercício 4: Movendo Veículos\n",
        "\n",
        "Crie uma classe chamada 'Carro', seguindos os passos:\n",
        "\n",
        "1. Herdar os atributos (marca, modelo, ano) da classe 'Veiculos'\n",
        "2. Herdar o método <code>__ str __</code> da classe 'Veiculos'\n",
        "3. Receber um novo atributo 'num_portas'\n",
        "4. Atualizar o método <code>__ str __</code> adicionando a saída o atributo num_portas\n",
        "5. Criar o atributo 'pos_atual' contendo a posição atual do carro (0, 1, 2, -1, etc)\n",
        "6. Criar um método chamado 'mover', esse método deverá receber a distância do movimento e a direção do movimento.\n",
        "7. A direção do movimento só poderá ser -1 ou 1.\n",
        "8. Popular o método 'mover' com a seguinte lógica: se direção for diferente de zero a posição atual deverá ser atualizada para o resultado da multiplicação da direção e distância. Não esqueça de considerar a posição atual como ponto de partida. Exemplo:\n",
        "\n",
        "```python\n",
        "posicao_atual = 12\n",
        "\n",
        "direcao = 1\n",
        "distancia = 13\n",
        "\n",
        "nova_posicao = posicao_atual + (direcao*distancia)\n",
        "```\n",
        "\n",
        "9. Configurar o método 'mover' para retornar a nova posição do carro ao final de cada movimento.\n",
        "10. A direção do movimento só pode valores inteiros contidos na lista [-1,1] (esquerda ou direita).\n"
      ]
    },
    {
      "cell_type": "markdown",
      "source": [
        "Ao final, crie um objeto da classe 'Carro' faça um teste do método 'mover'. Crie um cenário onde a classe 'Carro' irá receber aleatoriamente 1000 valores de direção e 1000 valores de distância, mova o 'Carro' utilizando esses valores e crei dois gráficos demonstrando o histórico de posições."
      ],
      "metadata": {
        "id": "1l6JeQ3imWXf"
      }
    },
    {
      "cell_type": "markdown",
      "source": [
        "## Exercício 5: Polícia e Ladrão\n",
        "\n",
        "Crie duas classes, a primeira chamada 'Ladrao' e a segunda chamada 'Policial'. Siga as instruções abaixo:\n",
        "\n",
        "1. A classe 'Ladrao' deve ter somente o atributo força (valor inteiro, não nulo e não negativo).\n",
        "2. A classe 'Policial' deve ter os atributos nome e força (valor inteiro, não nulo e não negativo).\n",
        "3. A classe 'Policial' deve ter um método chamado _enfrentar_ladrao_ que recebe um objeto da classe 'Ladrao' e simula um confronto.\n",
        "4. O método _enfrentar_ladrao_ deve ter a seguinte lógica: o policial enfrentará o ladrão e a probabilidade do policial perder o confronto é dado pela fórmula (força do bandido / força do policial + força do bandido). Essa probabilidade é testada contra uma número aleatório tirado de uma distribuição uniforme (utilizando a biblioteca random), se o número aleatório for menor do que probabilidade de derrota o polifical ganha o confronto, se o número aleatório for maior que a probabilidade de derrota o policial perde o confronto.\n",
        "\n",
        "Ao final, simule 100 cenários diferentes, com números aleatórios de bandidos e forças aleatórias para os ladrões e policial, grave algumas informações e apresente com gráficos.\n"
      ],
      "metadata": {
        "id": "b7cIe3Rfonfq"
      }
    },
    {
      "cell_type": "markdown",
      "source": [
        "## Adicional - Cassino"
      ],
      "metadata": {
        "id": "Lk3Lf22psfk-"
      }
    },
    {
      "cell_type": "code",
      "source": [
        "class Cassino:\n",
        "    def __init__(self, probs, premios, custo):\n",
        "        self.probs = probs.round(5)\n",
        "        self.premios = premios\n",
        "        self.custo = custo\n",
        "\n",
        "    def jogada(self, maquina):\n",
        "        return self.premios[maquina] if np.random.random() < self.probs[maquina] else 0.0"
      ],
      "metadata": {
        "id": "AY-tAPSzmtY8"
      },
      "execution_count": null,
      "outputs": []
    },
    {
      "cell_type": "code",
      "source": [
        "c = Cassino(np.array([0.2,0.01]),[100,500], 0.25)"
      ],
      "metadata": {
        "id": "6ENvO_Kssx5L"
      },
      "execution_count": null,
      "outputs": []
    },
    {
      "cell_type": "code",
      "source": [
        "c.jogada(0)"
      ],
      "metadata": {
        "colab": {
          "base_uri": "https://localhost:8080/"
        },
        "id": "27hFW-E9s-55",
        "outputId": "41793a74-a3e0-4b5d-f4df-a8633f85af97"
      },
      "execution_count": null,
      "outputs": [
        {
          "output_type": "execute_result",
          "data": {
            "text/plain": [
              "0.0"
            ]
          },
          "metadata": {},
          "execution_count": 194
        }
      ]
    },
    {
      "cell_type": "code",
      "source": [
        "class Jogador:\n",
        "    def __init__(self, dinheiro, cassino, eps=0.01):\n",
        "        self.dinheiro = dinheiro\n",
        "        self.cassino = cassino\n",
        "        self.ganhos = np.zeros(len(self.cassino.probs))\n",
        "        self.eps = eps\n",
        "\n",
        "    def _escolher_maquina(self):\n",
        "        pass\n",
        "\n",
        "    def _gravar_ganhos(self, maquina, premio):\n",
        "        self.ganhos[maquina] += premio\n",
        "\n",
        "    def agir(self, max_jogadas = 2000, verbose = True):\n",
        "\n",
        "        n_jogadas = 0\n",
        "        maquinas_escolhidas = []\n",
        "        premios = []\n",
        "        ganho_medio = []\n",
        "        dinheiro_restante = [self.dinheiro]\n",
        "\n",
        "        while (n_jogadas < max_jogadas) and (self.dinheiro >= self.cassino.custo):\n",
        "\n",
        "            maquina = self._escolher_maquina()\n",
        "            maquinas_escolhidas.append(maquina)\n",
        "            premio = self.cassino.jogada(maquina)\n",
        "            premios.append(premio)\n",
        "            self.dinheiro -= self.cassino.custo\n",
        "            dinheiro_restante.append(self.dinheiro)\n",
        "            n_jogadas += 1\n",
        "            self._gravar_ganhos(maquina, premio)\n",
        "            ganho_medio.append(sum(premios)/n_jogadas)\n",
        "\n",
        "            if verbose:\n",
        "                print(dict(n_jogadas = n_jogadas, maquina_escolhida = maquina,\n",
        "                           premio = premio, dinheiro_restante = self.dinheiro,\n",
        "                           premios_acumulados = sum(premios),\n",
        "                           premio_medio = sum(premios)/n_jogadas))\n",
        "\n",
        "        return n_jogadas, np.array(maquinas_escolhidas), np.array(premios), np.array(dinheiro_restante), np.array(ganho_medio)"
      ],
      "metadata": {
        "id": "zkZlB2EmzClX"
      },
      "execution_count": null,
      "outputs": []
    },
    {
      "cell_type": "code",
      "source": [
        "class JogadorAleatorio(Jogador):\n",
        "\n",
        "    def _escolher_maquina(self):\n",
        "        return np.random.choice(range(len(self.cassino.probs)))\n",
        "\n",
        "class JogadorGreedy(Jogador):\n",
        "\n",
        "    def _escolher_maquina(self):\n",
        "\n",
        "        if np.random.random() < 0.01:\n",
        "            return np.random.choice(range(len(self.cassino.probs)))\n",
        "        else:\n",
        "            return np.argmax(self.ganhos)"
      ],
      "metadata": {
        "id": "gjevWPiKFi3s"
      },
      "execution_count": null,
      "outputs": []
    },
    {
      "cell_type": "code",
      "source": [
        "env = Cassino(np.array([0.2,0.01]),\n",
        "        [100,500], 0.25)\n",
        "\n",
        "print(env.probs)\n",
        "print(env.premios)\n",
        "print(env.custo)"
      ],
      "metadata": {
        "colab": {
          "base_uri": "https://localhost:8080/"
        },
        "id": "gGtShBzaFnjp",
        "outputId": "139c0916-c02b-42f5-c603-d23dcf4c8043"
      },
      "execution_count": null,
      "outputs": [
        {
          "output_type": "stream",
          "name": "stdout",
          "text": [
            "[0.2  0.01]\n",
            "[100, 500]\n",
            "0.25\n"
          ]
        }
      ]
    },
    {
      "cell_type": "code",
      "source": [
        "p1 = JogadorAleatorio(100, env)\n",
        "p2 = JogadorGreedy(100,env, eps=0.1)\n",
        "\n",
        "hist1 = p1.agir(max_jogadas=2000, verbose=False)\n",
        "hist2 = p2.agir(max_jogadas=2000, verbose=False)"
      ],
      "metadata": {
        "id": "CQ2c63UBFniH"
      },
      "execution_count": null,
      "outputs": []
    },
    {
      "cell_type": "code",
      "source": [
        "def eval_jogador(data):\n",
        "    freq_maquinas = pd.Series(data[1]).value_counts()\n",
        "    freq_premios = pd.Series(data[2]).value_counts()\n",
        "\n",
        "    print(f\"\"\" #### AVALIANDO JOGADOR ####\n",
        "\n",
        "    Total de jogadas:    {data[0]}\n",
        "    Total em prêmios:    R$ {data[2].sum()}\n",
        "    Total em gastos:     R$ {data[3][-1] - data[3][0]}\n",
        "    Patrimônio inicial:  R$ {data[3][0]}\n",
        "    Patrimônio final:    R$ {data[3][-1].sum() + data[2].sum()}\n",
        "\n",
        "    \"\"\")\n",
        "\n",
        "    f, ax = plt.subplots(2, 2, figsize=(9,9))\n",
        "\n",
        "    for idx in range(2):\n",
        "        ax[0,idx].spines['right'].set_visible(False)\n",
        "        ax[0,idx].spines['top'].set_visible(False)\n",
        "        ax[1,idx].spines['right'].set_visible(False)\n",
        "        ax[1,idx].spines['top'].set_visible(False)\n",
        "\n",
        "    freq_maquinas = pd.Series(data[1]).value_counts()\n",
        "\n",
        "    ax[0,0].bar(x=freq_maquinas.index, height=freq_maquinas.values, color='tab:blue')\n",
        "    ax[0,0].set_xticks(freq_maquinas.index)\n",
        "    ax[0,0].set_title('Frequência das máquinas', fontsize=8)\n",
        "\n",
        "    ax[0,1].plot(data[2], label='Prêmios', color='tab:blue')\n",
        "    ax[1,0].plot(data[3], label='Dinheiro restante', color='tab:blue')\n",
        "    ax[1,0].plot(data[2].cumsum(), label='Prêmio acumulado', color='tab:orange')\n",
        "    ax[1,1].plot(data[4], label='Prêmio médio', color='tab:blue')\n",
        "\n",
        "    ax[0,1].legend(fontsize=8)\n",
        "    ax[1,0].legend(fontsize=8)\n",
        "    ax[1,1].legend(fontsize=8)"
      ],
      "metadata": {
        "id": "LJIdrZbPFxqN"
      },
      "execution_count": null,
      "outputs": []
    },
    {
      "cell_type": "code",
      "source": [
        "eval_jogador(hist2)"
      ],
      "metadata": {
        "colab": {
          "base_uri": "https://localhost:8080/",
          "height": 926
        },
        "id": "2GvRiiAHGTDp",
        "outputId": "06d1e104-3ff1-4abe-9134-23ad1386f3e0"
      },
      "execution_count": null,
      "outputs": [
        {
          "output_type": "stream",
          "name": "stdout",
          "text": [
            " #### AVALIANDO JOGADOR ####\n",
            "\n",
            "    Total de jogadas:    400\n",
            "    Total em prêmios:    R$ 7300.0\n",
            "    Total em gastos:     R$ -100.0\n",
            "    Patrimônio inicial:  R$ 100.0\n",
            "    Patrimônio final:    R$ 7300.0\n",
            "\n",
            "    \n"
          ]
        },
        {
          "output_type": "display_data",
          "data": {
            "text/plain": [
              "<Figure size 900x900 with 4 Axes>"
            ],
            "image/png": "[encoded data removed]"
          },
          "metadata": {}
        }
      ]
    },
    {
      "cell_type": "markdown",
      "source": [
        "## Adicional: Analisando aluguéis"
      ],
      "metadata": {
        "id": "5V-Qb4j-BoKt"
      }
    },
    {
      "cell_type": "code",
      "source": [
        "class RentAnalyzer:\n",
        "    def __init__(self, dataset_path):\n",
        "        self.path = dataset_path\n",
        "        self.raw_data = self._load_dataset()\n",
        "        self._remove_nan()\n",
        "        self.cols_checked = self._check_cols(['id','posted_on','bhk',\n",
        "                          'size','rent','bathroom',\n",
        "                          'city'])\n",
        "        self.pre_processed = False\n",
        "\n",
        "    def _load_dataset(self):\n",
        "        data = pd.read_csv(self.path)\n",
        "        data.columns = [x.lower().replace(' ','_') for x in data.columns]\n",
        "        data['id'] = [f'IM{x}' for x in range(len(data))]\n",
        "        print(\">> INFO : Dataset carregado.\")\n",
        "        return data\n",
        "\n",
        "    def _remove_nan(self, inp=True):\n",
        "        if inp:\n",
        "            self.raw_data.dropna(inplace=True)\n",
        "            print(\">> INFO : Valores nulos dropados.\")\n",
        "        else:\n",
        "            return self.raw_data.dropna()\n",
        "\n",
        "    def _check_cols(self, cols):\n",
        "        for col in cols:\n",
        "            if col not in self.raw_data.columns:\n",
        "                raise ValueError(f'A coluna {col} não foi encontrada no dataset!')\n",
        "        else:\n",
        "            print(\">> INFO : Colunas verificadas.\")\n",
        "            return True\n",
        "\n",
        "    def _remove_outliers(self):\n",
        "        iso = IsolationForest(n_estimators=100, random_state=42)\n",
        "        out_indexes = iso.fit_predict(self.processed_data.loc[:,[x for x in self.processed_cols if not x.startswith('remainder')]])\n",
        "        self.processed_data = self.processed_data.loc[out_indexes==1,:]\n",
        "        print(\">> INFO : Outliers removidos.\")\n",
        "\n",
        "    def preprocess(self):\n",
        "        if not self.pre_processed and self.cols_checked:\n",
        "\n",
        "            pipe = make_pipeline(Normalizer(),RobustScaler())\n",
        "\n",
        "            self.col_transf = make_column_transformer(\n",
        "                (OneHotEncoder(),['city']),\n",
        "                (pipe,['bhk','size','rent','bathroom']),\n",
        "                sparse_threshold=0,\n",
        "                remainder='passthrough')\n",
        "\n",
        "            processed_data = self.col_transf.fit_transform(self.raw_data)\n",
        "            self.processed_cols = self.col_transf.get_feature_names_out()\n",
        "            self.processed_data = pd.DataFrame(processed_data,\n",
        "                                               columns=self.processed_cols)\n",
        "            self.pre_processed = True\n",
        "            print(\">> INFO : Dataset pré-processado.\")\n",
        "            self._remove_outliers()\n",
        "\n",
        "    def plot_rents(self):\n",
        "        pca = PCA(n_components=2, random_state=42)\n",
        "        data_reduced = pca.fit_transform(self.processed_data.loc[:,[x for x in self.processed_cols if not x.startswith('remainder')]])\n",
        "\n",
        "        mosaic = '''\n",
        "                 AAB\n",
        "                 AAC\n",
        "                 '''\n",
        "\n",
        "        f, ax = plt.subplot_mosaic(mosaic, figsize=(16,4))\n",
        "        ax['A'].scatter(data_reduced[:,0],\n",
        "                        data_reduced[:,1],\n",
        "                        edgecolors='white',\n",
        "                        alpha=0.7,\n",
        "                        label=f'Imóveis (EVR={round(sum(pca.explained_variance_ratio_),2)})')\n",
        "        ax['A'].\n",
        "        ax['A'].legend(loc=2)\n",
        "\n",
        "        ax['B'].hist(self.raw_data['size'])\n",
        "\n",
        "        ax['C'].plot((\n",
        "            self\n",
        "            .raw_data\n",
        "            .loc[:,['id','posted_on']]\n",
        "            .assign(posted_on = lambda x: pd.to_datetime(x.posted_on))\n",
        "            .groupby('posted_on')\n",
        "            .count()\n",
        "            .sort_index(ascending=False)\n",
        "        ))\n",
        "\n",
        "        ax['C'].tick_params(axis='x', labelrotation = 45)\n",
        "\n",
        "        for chart in ['A','B','C']:\n",
        "            ax[chart].spines['right'].set_visible(False)\n",
        "            ax[chart].spines['top'].set_visible(False)\n",
        "\n",
        "        return self.processed_data"
      ],
      "metadata": {
        "id": "FmYTj1O9ZjVd"
      },
      "execution_count": null,
      "outputs": []
    },
    {
      "cell_type": "code",
      "source": [
        "analyzer = RentAnalyzer('drive/MyDrive/dados_aula/House_Rent_Dataset.csv')\n",
        "analyzer.preprocess()"
      ],
      "metadata": {
        "colab": {
          "base_uri": "https://localhost:8080/"
        },
        "id": "I1O1gr96lsUC",
        "outputId": "b0d084ec-e253-4c4b-efd1-bd494aedda50"
      },
      "execution_count": null,
      "outputs": [
        {
          "output_type": "stream",
          "name": "stdout",
          "text": [
            ">> INFO : Dataset carregado.\n",
            ">> INFO : Valores nulos dropados.\n",
            ">> INFO : Colunas verificadas.\n",
            ">> INFO : Dataset pré-processado.\n",
            ">> INFO : Outliers removidos.\n"
          ]
        }
      ]
    },
    {
      "cell_type": "code",
      "source": [
        "_ = analyzer.plot_rents()"
      ],
      "metadata": {
        "colab": {
          "base_uri": "https://localhost:8080/",
          "height": 403
        },
        "id": "Tv25swdCuGWf",
        "outputId": "f3b663d4-0d6f-403b-a78a-689568b3fe4e"
      },
      "execution_count": null,
      "outputs": [
        {
          "output_type": "display_data",
          "data": {
            "text/plain": [
              "<Figure size 1600x400 with 3 Axes>"
            ],
            "image/png": "[encoded data removed]"
          },
          "metadata": {}
        }
      ]
    },
    {
      "cell_type": "markdown",
      "metadata": {
        "id": "TzmNfMSI7qss"
      },
      "source": [
        "## Adicional: Jogo do Tesouro"
      ]
    },
    {
      "cell_type": "code",
      "execution_count": null,
      "metadata": {
        "id": "4IvUUqnTDPy3"
      },
      "outputs": [],
      "source": [
        "class Aventureiro:\n",
        "    def __init__(self, name, vida=100, energia=80):\n",
        "        self.name = name\n",
        "        self.vida = vida\n",
        "        self.energia = energia\n",
        "        self.loc = None\n",
        "        self.poder_de_ataque = 10\n",
        "\n",
        "    def __str__(self):\n",
        "        return str(dict(nome=self.name, vida=self.vida,\n",
        "                        energia=self.energia, localizacao=self.loc))\n",
        "\n",
        "    def entrar_no_jogo(self):\n",
        "        self.loc = (0,0)\n",
        "        return self.loc\n",
        "\n",
        "    def movimentar(self, grid):\n",
        "        if self.energia > 0:\n",
        "            self.loc = random.randint(0,grid-1), random.randint(0,grid-1)\n",
        "            self.energia -= 8\n",
        "            return True\n",
        "        else:\n",
        "            return False\n",
        "\n",
        "    def atacar(self):\n",
        "        return np.random.choice([1,2,3,4,5,6])\n",
        "\n",
        "    def perder_vida(self):\n",
        "        self.vida -= min(0,self.vida-10)\n",
        "\n",
        "    def encontrar_tesouro(self):\n",
        "        print(f\"{self.name} encontrou o tesouro!\")\n",
        "        print(f\"{self.name} VENCEU O JOGO!\")\n",
        "\n",
        "    def descansar_na_fogueira(self):\n",
        "        print(f\"{self.name} encontrou uma fogueira !!\")\n",
        "        print(f\"{self.name} vai descansar !!\")\n",
        "        time.sleep(1)\n",
        "        self.vida = min(100, self.vida + 20)\n",
        "        self.energia = min(80, self.energia + 28)\n",
        "        print(f\"{self.name} já descansou e pode continuar sua aventura !!\")\n",
        "\n",
        "class Monstro:\n",
        "    def __init__(self, vida=20):\n",
        "        self.vida = vida\n",
        "        self.loc = None\n",
        "\n",
        "    def atacar(self):\n",
        "        return np.random.choice([1,2,3,4,5,6])\n",
        "\n",
        "    def perder_vida(self, dano):\n",
        "        self.vida = min(0,self.vida-dano)\n",
        "\n",
        "    def entrar_no_jogo(self, grid):\n",
        "        self.loc = random.randint(0,grid-1), random.randint(0,grid-1)\n",
        "        return self.loc\n",
        "\n",
        "class Tesouro:\n",
        "    def __init__(self):\n",
        "        self.loc = None\n",
        "        self.encontrado = False\n",
        "\n",
        "    def entrar_no_jogo(self, grid):\n",
        "        self.loc = random.randint(0,grid-1), random.randint(0,grid-1)\n",
        "        return self.loc\n",
        "\n",
        "class Fogueira:\n",
        "    def __init__(self):\n",
        "        self.loc = None\n",
        "        self.encontrado = False\n",
        "\n",
        "    def entrar_no_jogo(self, grid):\n",
        "        self.loc = random.randint(0,grid-1), random.randint(0,grid-1)\n",
        "        return self.loc\n",
        "\n",
        "class JogoTesouro:\n",
        "    def __init__(self, jogador, monstro, tesouro, fogueira, tamanho):\n",
        "        self.jogador = jogador(name='Nasser')\n",
        "        self.monstro = monstro()\n",
        "        self.tesouro = tesouro()\n",
        "        self.fogueira = fogueira()\n",
        "        self.tamanho = tamanho\n",
        "        self.montar_campo_de_batalha()\n",
        "        self.jogo_on = True\n",
        "\n",
        "    def montar_campo_de_batalha(self):\n",
        "        self.campo_de_batalha = np.zeros((self.tamanho,self.tamanho))\n",
        "\n",
        "    def colocar_pecas(self, verbose=False):\n",
        "\n",
        "        locs_init = [self.jogador.entrar_no_jogo(),\n",
        "                     self.monstro.entrar_no_jogo(self.tamanho),\n",
        "                     self.fogueira.entrar_no_jogo(self.tamanho),\n",
        "                     self.tesouro.entrar_no_jogo(self.tamanho)]\n",
        "\n",
        "        while len(set(locs_init)) != 4:\n",
        "\n",
        "            locs_init = [self.jogador.entrar_no_jogo(),\n",
        "                     self.monstro.entrar_no_jogo(self.tamanho),\n",
        "                     self.fogueira.entrar_no_jogo(self.tamanho),\n",
        "                     self.tesouro.entrar_no_jogo(self.tamanho)]\n",
        "\n",
        "        self.campo_de_batalha[locs_init[0]] = 8     # jogador\n",
        "        self.campo_de_batalha[locs_init[1]] = -1    # monstro\n",
        "        self.campo_de_batalha[locs_init[2]] = 1     # fogueira\n",
        "        self.campo_de_batalha[locs_init[3]] = 100   # tesouro\n",
        "\n",
        "        if verbose:\n",
        "            return self.campo_de_batalha\n",
        "\n",
        "    def atualizar_campo_de_batalha(self):\n",
        "        self.campo_de_batalha[self.jog_prev_pos] = 0\n",
        "        self.campo_de_batalha[self.jogador.loc] = 8\n",
        "\n",
        "    def timestep(self):\n",
        "        self.jog_prev_pos = self.jogador.loc\n",
        "        ativo = self.jogador.movimentar(self.tamanho)\n",
        "\n",
        "        if ativo:\n",
        "            resultado_movimento = self.campo_de_batalha[self.jogador.loc]\n",
        "            self.atualizar_campo_de_batalha()\n",
        "\n",
        "            ## encontrando o tesouro\n",
        "            if resultado_movimento == 100:\n",
        "                self.tesouro.encontrado == True\n",
        "                self.jogador.encontrar_tesouro()\n",
        "                self.jogo_on = False\n",
        "                return 100\n",
        "\n",
        "            ## encontrando a fogueira\n",
        "            elif resultado_movimento == 1:\n",
        "                if self.fogueira.encontrado == False:\n",
        "                    print('Fogueira encontrada! Recuperando vida e energia!')\n",
        "                    self.jogador.descansar_na_fogueira()\n",
        "                    return 5\n",
        "                else:\n",
        "                    return -5\n",
        "\n",
        "            ## encontrando o monstro\n",
        "            elif resultado_movimento == -1:\n",
        "                print('Monstro encontrado! Hora da batalha!')\n",
        "\n",
        "                while self.jogador.vida != 0:\n",
        "\n",
        "                    if self.monstro.vida == 0:\n",
        "                        break\n",
        "\n",
        "                    ataque_jogador = self.jogador.atacar()\n",
        "                    ataque_monstro = self.monstro.atacar()\n",
        "\n",
        "                    if ataque_jogador > ataque_monstro:\n",
        "                        self.monstro.perder_vida(dano=self.jogador.poder_de_ataque)\n",
        "                    else:\n",
        "                        self.jogador.perder_vida()\n",
        "                else:\n",
        "                    print('GAME OVER! O JOGADOR MORREU')\n",
        "                    self.jogo_on = False\n",
        "                    return -50\n",
        "\n",
        "                return 30\n",
        "\n",
        "            else:\n",
        "                print('Espaço vazio! Vamos continuar procurando!')\n",
        "                return -1\n",
        "        else:\n",
        "            print('GAME OVER! A ENERGIA ACABOU!')\n",
        "            self.jogo_on = False\n",
        "            return -100"
      ]
    },
    {
      "cell_type": "code",
      "execution_count": null,
      "metadata": {
        "colab": {
          "base_uri": "https://localhost:8080/"
        },
        "id": "VgqflJdDXe-X",
        "outputId": "1e14c7aa-1e83-4039-a636-dba736b2c3c5"
      },
      "outputs": [
        {
          "output_type": "stream",
          "name": "stdout",
          "text": [
            "Espaço vazio! Vamos continuar procurando!\n",
            "Espaço vazio! Vamos continuar procurando!\n",
            "Espaço vazio! Vamos continuar procurando!\n",
            "Espaço vazio! Vamos continuar procurando!\n",
            "Monstro encontrado! Hora da batalha!\n",
            "Espaço vazio! Vamos continuar procurando!\n",
            "Espaço vazio! Vamos continuar procurando!\n",
            "Espaço vazio! Vamos continuar procurando!\n",
            "Espaço vazio! Vamos continuar procurando!\n",
            "Espaço vazio! Vamos continuar procurando!\n",
            "GAME OVER! A ENERGIA ACABOU!\n",
            "Espaço vazio! Vamos continuar procurando!\n",
            "Espaço vazio! Vamos continuar procurando!\n",
            "Monstro encontrado! Hora da batalha!\n",
            "Espaço vazio! Vamos continuar procurando!\n",
            "Espaço vazio! Vamos continuar procurando!\n",
            "Espaço vazio! Vamos continuar procurando!\n",
            "Espaço vazio! Vamos continuar procurando!\n",
            "Espaço vazio! Vamos continuar procurando!\n",
            "Espaço vazio! Vamos continuar procurando!\n",
            "Fogueira encontrada! Recuperando vida e energia!\n",
            "Nasser encontrou uma fogueira !!\n",
            "Nasser vai descansar !!\n",
            "Nasser já descansou e pode continuar sua aventura !!\n",
            "Espaço vazio! Vamos continuar procurando!\n",
            "Espaço vazio! Vamos continuar procurando!\n",
            "Espaço vazio! Vamos continuar procurando!\n",
            "Espaço vazio! Vamos continuar procurando!\n",
            "GAME OVER! A ENERGIA ACABOU!\n",
            "Espaço vazio! Vamos continuar procurando!\n",
            "Espaço vazio! Vamos continuar procurando!\n",
            "Espaço vazio! Vamos continuar procurando!\n",
            "Espaço vazio! Vamos continuar procurando!\n",
            "Nasser encontrou o tesouro!\n",
            "Nasser VENCEU O JOGO!\n",
            "Espaço vazio! Vamos continuar procurando!\n",
            "Espaço vazio! Vamos continuar procurando!\n",
            "Espaço vazio! Vamos continuar procurando!\n",
            "Espaço vazio! Vamos continuar procurando!\n",
            "Monstro encontrado! Hora da batalha!\n",
            "Espaço vazio! Vamos continuar procurando!\n",
            "Espaço vazio! Vamos continuar procurando!\n",
            "Espaço vazio! Vamos continuar procurando!\n",
            "Espaço vazio! Vamos continuar procurando!\n",
            "Espaço vazio! Vamos continuar procurando!\n",
            "GAME OVER! A ENERGIA ACABOU!\n",
            "Espaço vazio! Vamos continuar procurando!\n",
            "Espaço vazio! Vamos continuar procurando!\n",
            "Espaço vazio! Vamos continuar procurando!\n",
            "Espaço vazio! Vamos continuar procurando!\n",
            "Espaço vazio! Vamos continuar procurando!\n",
            "Espaço vazio! Vamos continuar procurando!\n",
            "Espaço vazio! Vamos continuar procurando!\n",
            "Espaço vazio! Vamos continuar procurando!\n",
            "Espaço vazio! Vamos continuar procurando!\n",
            "Espaço vazio! Vamos continuar procurando!\n",
            "GAME OVER! A ENERGIA ACABOU!\n",
            "Espaço vazio! Vamos continuar procurando!\n",
            "Espaço vazio! Vamos continuar procurando!\n",
            "Espaço vazio! Vamos continuar procurando!\n",
            "Espaço vazio! Vamos continuar procurando!\n",
            "Espaço vazio! Vamos continuar procurando!\n",
            "Espaço vazio! Vamos continuar procurando!\n",
            "Espaço vazio! Vamos continuar procurando!\n",
            "Espaço vazio! Vamos continuar procurando!\n",
            "Espaço vazio! Vamos continuar procurando!\n",
            "Espaço vazio! Vamos continuar procurando!\n",
            "GAME OVER! A ENERGIA ACABOU!\n",
            "Espaço vazio! Vamos continuar procurando!\n",
            "Fogueira encontrada! Recuperando vida e energia!\n",
            "Nasser encontrou uma fogueira !!\n",
            "Nasser vai descansar !!\n",
            "Nasser já descansou e pode continuar sua aventura !!\n",
            "Espaço vazio! Vamos continuar procurando!\n",
            "Espaço vazio! Vamos continuar procurando!\n",
            "Espaço vazio! Vamos continuar procurando!\n",
            "Espaço vazio! Vamos continuar procurando!\n",
            "Espaço vazio! Vamos continuar procurando!\n",
            "Espaço vazio! Vamos continuar procurando!\n",
            "Espaço vazio! Vamos continuar procurando!\n",
            "Espaço vazio! Vamos continuar procurando!\n",
            "Espaço vazio! Vamos continuar procurando!\n",
            "Espaço vazio! Vamos continuar procurando!\n",
            "GAME OVER! A ENERGIA ACABOU!\n",
            "Espaço vazio! Vamos continuar procurando!\n",
            "Nasser encontrou o tesouro!\n",
            "Nasser VENCEU O JOGO!\n",
            "Espaço vazio! Vamos continuar procurando!\n",
            "Espaço vazio! Vamos continuar procurando!\n",
            "Espaço vazio! Vamos continuar procurando!\n",
            "Espaço vazio! Vamos continuar procurando!\n",
            "Espaço vazio! Vamos continuar procurando!\n",
            "Espaço vazio! Vamos continuar procurando!\n",
            "Espaço vazio! Vamos continuar procurando!\n",
            "Monstro encontrado! Hora da batalha!\n",
            "Espaço vazio! Vamos continuar procurando!\n",
            "Nasser encontrou o tesouro!\n",
            "Nasser VENCEU O JOGO!\n",
            "Espaço vazio! Vamos continuar procurando!\n",
            "Espaço vazio! Vamos continuar procurando!\n",
            "Espaço vazio! Vamos continuar procurando!\n",
            "Espaço vazio! Vamos continuar procurando!\n",
            "Espaço vazio! Vamos continuar procurando!\n",
            "Espaço vazio! Vamos continuar procurando!\n",
            "Espaço vazio! Vamos continuar procurando!\n",
            "Nasser encontrou o tesouro!\n",
            "Nasser VENCEU O JOGO!\n",
            "Espaço vazio! Vamos continuar procurando!\n",
            "Espaço vazio! Vamos continuar procurando!\n",
            "Espaço vazio! Vamos continuar procurando!\n",
            "Espaço vazio! Vamos continuar procurando!\n",
            "Espaço vazio! Vamos continuar procurando!\n",
            "Espaço vazio! Vamos continuar procurando!\n",
            "Espaço vazio! Vamos continuar procurando!\n",
            "Espaço vazio! Vamos continuar procurando!\n",
            "Espaço vazio! Vamos continuar procurando!\n",
            "Espaço vazio! Vamos continuar procurando!\n",
            "GAME OVER! A ENERGIA ACABOU!\n",
            "Espaço vazio! Vamos continuar procurando!\n",
            "Espaço vazio! Vamos continuar procurando!\n",
            "Espaço vazio! Vamos continuar procurando!\n",
            "Espaço vazio! Vamos continuar procurando!\n",
            "Espaço vazio! Vamos continuar procurando!\n",
            "Espaço vazio! Vamos continuar procurando!\n",
            "Espaço vazio! Vamos continuar procurando!\n",
            "Espaço vazio! Vamos continuar procurando!\n",
            "Espaço vazio! Vamos continuar procurando!\n",
            "Espaço vazio! Vamos continuar procurando!\n",
            "GAME OVER! A ENERGIA ACABOU!\n",
            "Espaço vazio! Vamos continuar procurando!\n",
            "Nasser encontrou o tesouro!\n",
            "Nasser VENCEU O JOGO!\n",
            "Espaço vazio! Vamos continuar procurando!\n",
            "Fogueira encontrada! Recuperando vida e energia!\n",
            "Nasser encontrou uma fogueira !!\n",
            "Nasser vai descansar !!\n",
            "Nasser já descansou e pode continuar sua aventura !!\n",
            "Espaço vazio! Vamos continuar procurando!\n",
            "Espaço vazio! Vamos continuar procurando!\n",
            "Espaço vazio! Vamos continuar procurando!\n",
            "Espaço vazio! Vamos continuar procurando!\n",
            "Espaço vazio! Vamos continuar procurando!\n",
            "Espaço vazio! Vamos continuar procurando!\n",
            "Espaço vazio! Vamos continuar procurando!\n",
            "Monstro encontrado! Hora da batalha!\n",
            "Nasser encontrou o tesouro!\n",
            "Nasser VENCEU O JOGO!\n",
            "Espaço vazio! Vamos continuar procurando!\n",
            "Espaço vazio! Vamos continuar procurando!\n",
            "Espaço vazio! Vamos continuar procurando!\n",
            "Espaço vazio! Vamos continuar procurando!\n",
            "Monstro encontrado! Hora da batalha!\n",
            "Espaço vazio! Vamos continuar procurando!\n",
            "Espaço vazio! Vamos continuar procurando!\n",
            "Espaço vazio! Vamos continuar procurando!\n",
            "Nasser encontrou o tesouro!\n",
            "Nasser VENCEU O JOGO!\n",
            "Espaço vazio! Vamos continuar procurando!\n",
            "Espaço vazio! Vamos continuar procurando!\n",
            "Espaço vazio! Vamos continuar procurando!\n",
            "Espaço vazio! Vamos continuar procurando!\n",
            "Espaço vazio! Vamos continuar procurando!\n",
            "Espaço vazio! Vamos continuar procurando!\n",
            "Espaço vazio! Vamos continuar procurando!\n",
            "Espaço vazio! Vamos continuar procurando!\n",
            "Espaço vazio! Vamos continuar procurando!\n",
            "Espaço vazio! Vamos continuar procurando!\n",
            "GAME OVER! A ENERGIA ACABOU!\n",
            "Espaço vazio! Vamos continuar procurando!\n",
            "Espaço vazio! Vamos continuar procurando!\n",
            "Espaço vazio! Vamos continuar procurando!\n",
            "Espaço vazio! Vamos continuar procurando!\n",
            "Espaço vazio! Vamos continuar procurando!\n",
            "Espaço vazio! Vamos continuar procurando!\n",
            "Espaço vazio! Vamos continuar procurando!\n",
            "Espaço vazio! Vamos continuar procurando!\n",
            "Espaço vazio! Vamos continuar procurando!\n",
            "Espaço vazio! Vamos continuar procurando!\n",
            "GAME OVER! A ENERGIA ACABOU!\n",
            "Espaço vazio! Vamos continuar procurando!\n",
            "Espaço vazio! Vamos continuar procurando!\n",
            "Espaço vazio! Vamos continuar procurando!\n",
            "Espaço vazio! Vamos continuar procurando!\n",
            "Espaço vazio! Vamos continuar procurando!\n",
            "Espaço vazio! Vamos continuar procurando!\n",
            "Espaço vazio! Vamos continuar procurando!\n",
            "Espaço vazio! Vamos continuar procurando!\n",
            "Espaço vazio! Vamos continuar procurando!\n",
            "Espaço vazio! Vamos continuar procurando!\n",
            "GAME OVER! A ENERGIA ACABOU!\n",
            "Espaço vazio! Vamos continuar procurando!\n",
            "Espaço vazio! Vamos continuar procurando!\n",
            "Fogueira encontrada! Recuperando vida e energia!\n",
            "Nasser encontrou uma fogueira !!\n",
            "Nasser vai descansar !!\n",
            "Nasser já descansou e pode continuar sua aventura !!\n",
            "Espaço vazio! Vamos continuar procurando!\n",
            "Espaço vazio! Vamos continuar procurando!\n",
            "Espaço vazio! Vamos continuar procurando!\n",
            "Espaço vazio! Vamos continuar procurando!\n",
            "Espaço vazio! Vamos continuar procurando!\n",
            "Monstro encontrado! Hora da batalha!\n",
            "Espaço vazio! Vamos continuar procurando!\n",
            "Espaço vazio! Vamos continuar procurando!\n",
            "Espaço vazio! Vamos continuar procurando!\n",
            "Espaço vazio! Vamos continuar procurando!\n",
            "GAME OVER! A ENERGIA ACABOU!\n",
            "Espaço vazio! Vamos continuar procurando!\n",
            "Espaço vazio! Vamos continuar procurando!\n",
            "Espaço vazio! Vamos continuar procurando!\n",
            "Espaço vazio! Vamos continuar procurando!\n",
            "Espaço vazio! Vamos continuar procurando!\n",
            "Espaço vazio! Vamos continuar procurando!\n",
            "Espaço vazio! Vamos continuar procurando!\n",
            "Espaço vazio! Vamos continuar procurando!\n",
            "Espaço vazio! Vamos continuar procurando!\n",
            "Espaço vazio! Vamos continuar procurando!\n",
            "GAME OVER! A ENERGIA ACABOU!\n",
            "Espaço vazio! Vamos continuar procurando!\n",
            "Espaço vazio! Vamos continuar procurando!\n",
            "Nasser encontrou o tesouro!\n",
            "Nasser VENCEU O JOGO!\n",
            "Espaço vazio! Vamos continuar procurando!\n",
            "Espaço vazio! Vamos continuar procurando!\n",
            "Espaço vazio! Vamos continuar procurando!\n",
            "Espaço vazio! Vamos continuar procurando!\n",
            "Espaço vazio! Vamos continuar procurando!\n",
            "Espaço vazio! Vamos continuar procurando!\n",
            "Nasser encontrou o tesouro!\n",
            "Nasser VENCEU O JOGO!\n",
            "Espaço vazio! Vamos continuar procurando!\n",
            "Espaço vazio! Vamos continuar procurando!\n",
            "Espaço vazio! Vamos continuar procurando!\n",
            "Espaço vazio! Vamos continuar procurando!\n",
            "Espaço vazio! Vamos continuar procurando!\n",
            "Espaço vazio! Vamos continuar procurando!\n",
            "Espaço vazio! Vamos continuar procurando!\n",
            "Espaço vazio! Vamos continuar procurando!\n",
            "Espaço vazio! Vamos continuar procurando!\n",
            "Espaço vazio! Vamos continuar procurando!\n",
            "GAME OVER! A ENERGIA ACABOU!\n",
            "Nasser encontrou o tesouro!\n",
            "Nasser VENCEU O JOGO!\n",
            "Espaço vazio! Vamos continuar procurando!\n",
            "Espaço vazio! Vamos continuar procurando!\n",
            "Espaço vazio! Vamos continuar procurando!\n",
            "Espaço vazio! Vamos continuar procurando!\n",
            "Nasser encontrou o tesouro!\n",
            "Nasser VENCEU O JOGO!\n",
            "Espaço vazio! Vamos continuar procurando!\n",
            "Espaço vazio! Vamos continuar procurando!\n",
            "Espaço vazio! Vamos continuar procurando!\n",
            "Espaço vazio! Vamos continuar procurando!\n",
            "Espaço vazio! Vamos continuar procurando!\n",
            "Espaço vazio! Vamos continuar procurando!\n",
            "Espaço vazio! Vamos continuar procurando!\n",
            "Espaço vazio! Vamos continuar procurando!\n",
            "Monstro encontrado! Hora da batalha!\n",
            "Espaço vazio! Vamos continuar procurando!\n",
            "GAME OVER! A ENERGIA ACABOU!\n",
            "Nasser encontrou o tesouro!\n",
            "Nasser VENCEU O JOGO!\n",
            "Espaço vazio! Vamos continuar procurando!\n",
            "Espaço vazio! Vamos continuar procurando!\n",
            "Espaço vazio! Vamos continuar procurando!\n",
            "Espaço vazio! Vamos continuar procurando!\n",
            "Espaço vazio! Vamos continuar procurando!\n",
            "Espaço vazio! Vamos continuar procurando!\n",
            "Nasser encontrou o tesouro!\n",
            "Nasser VENCEU O JOGO!\n",
            "Espaço vazio! Vamos continuar procurando!\n",
            "Espaço vazio! Vamos continuar procurando!\n",
            "Espaço vazio! Vamos continuar procurando!\n",
            "Espaço vazio! Vamos continuar procurando!\n",
            "Fogueira encontrada! Recuperando vida e energia!\n",
            "Nasser encontrou uma fogueira !!\n",
            "Nasser vai descansar !!\n",
            "Nasser já descansou e pode continuar sua aventura !!\n",
            "Espaço vazio! Vamos continuar procurando!\n",
            "Espaço vazio! Vamos continuar procurando!\n",
            "Espaço vazio! Vamos continuar procurando!\n",
            "Espaço vazio! Vamos continuar procurando!\n",
            "Espaço vazio! Vamos continuar procurando!\n",
            "Espaço vazio! Vamos continuar procurando!\n",
            "Espaço vazio! Vamos continuar procurando!\n",
            "Espaço vazio! Vamos continuar procurando!\n",
            "Espaço vazio! Vamos continuar procurando!\n",
            "GAME OVER! A ENERGIA ACABOU!\n",
            "Espaço vazio! Vamos continuar procurando!\n",
            "Espaço vazio! Vamos continuar procurando!\n",
            "Espaço vazio! Vamos continuar procurando!\n",
            "Espaço vazio! Vamos continuar procurando!\n",
            "Espaço vazio! Vamos continuar procurando!\n",
            "Espaço vazio! Vamos continuar procurando!\n",
            "Espaço vazio! Vamos continuar procurando!\n",
            "Espaço vazio! Vamos continuar procurando!\n",
            "Espaço vazio! Vamos continuar procurando!\n",
            "Espaço vazio! Vamos continuar procurando!\n",
            "GAME OVER! A ENERGIA ACABOU!\n",
            "Espaço vazio! Vamos continuar procurando!\n",
            "Espaço vazio! Vamos continuar procurando!\n",
            "Espaço vazio! Vamos continuar procurando!\n",
            "Espaço vazio! Vamos continuar procurando!\n",
            "Espaço vazio! Vamos continuar procurando!\n",
            "Espaço vazio! Vamos continuar procurando!\n",
            "Espaço vazio! Vamos continuar procurando!\n",
            "Fogueira encontrada! Recuperando vida e energia!\n",
            "Nasser encontrou uma fogueira !!\n",
            "Nasser vai descansar !!\n",
            "Nasser já descansou e pode continuar sua aventura !!\n",
            "Espaço vazio! Vamos continuar procurando!\n",
            "Espaço vazio! Vamos continuar procurando!\n",
            "Espaço vazio! Vamos continuar procurando!\n",
            "Espaço vazio! Vamos continuar procurando!\n",
            "Espaço vazio! Vamos continuar procurando!\n",
            "Espaço vazio! Vamos continuar procurando!\n",
            "GAME OVER! A ENERGIA ACABOU!\n",
            "Espaço vazio! Vamos continuar procurando!\n",
            "Espaço vazio! Vamos continuar procurando!\n",
            "Fogueira encontrada! Recuperando vida e energia!\n",
            "Nasser encontrou uma fogueira !!\n",
            "Nasser vai descansar !!\n",
            "Nasser já descansou e pode continuar sua aventura !!\n",
            "Espaço vazio! Vamos continuar procurando!\n",
            "Espaço vazio! Vamos continuar procurando!\n",
            "Espaço vazio! Vamos continuar procurando!\n",
            "Espaço vazio! Vamos continuar procurando!\n",
            "Espaço vazio! Vamos continuar procurando!\n",
            "Espaço vazio! Vamos continuar procurando!\n",
            "Espaço vazio! Vamos continuar procurando!\n",
            "Espaço vazio! Vamos continuar procurando!\n",
            "Monstro encontrado! Hora da batalha!\n",
            "Espaço vazio! Vamos continuar procurando!\n",
            "GAME OVER! A ENERGIA ACABOU!\n",
            "Monstro encontrado! Hora da batalha!\n",
            "Espaço vazio! Vamos continuar procurando!\n",
            "Espaço vazio! Vamos continuar procurando!\n",
            "Espaço vazio! Vamos continuar procurando!\n",
            "Espaço vazio! Vamos continuar procurando!\n",
            "Espaço vazio! Vamos continuar procurando!\n",
            "Espaço vazio! Vamos continuar procurando!\n",
            "Espaço vazio! Vamos continuar procurando!\n",
            "Espaço vazio! Vamos continuar procurando!\n",
            "Espaço vazio! Vamos continuar procurando!\n",
            "GAME OVER! A ENERGIA ACABOU!\n",
            "Espaço vazio! Vamos continuar procurando!\n",
            "Espaço vazio! Vamos continuar procurando!\n",
            "Espaço vazio! Vamos continuar procurando!\n",
            "Espaço vazio! Vamos continuar procurando!\n",
            "Espaço vazio! Vamos continuar procurando!\n",
            "Fogueira encontrada! Recuperando vida e energia!\n",
            "Nasser encontrou uma fogueira !!\n",
            "Nasser vai descansar !!\n",
            "Nasser já descansou e pode continuar sua aventura !!\n",
            "Espaço vazio! Vamos continuar procurando!\n",
            "Espaço vazio! Vamos continuar procurando!\n",
            "Espaço vazio! Vamos continuar procurando!\n",
            "Espaço vazio! Vamos continuar procurando!\n",
            "Espaço vazio! Vamos continuar procurando!\n",
            "Espaço vazio! Vamos continuar procurando!\n",
            "Espaço vazio! Vamos continuar procurando!\n",
            "Espaço vazio! Vamos continuar procurando!\n",
            "GAME OVER! A ENERGIA ACABOU!\n",
            "Espaço vazio! Vamos continuar procurando!\n",
            "Espaço vazio! Vamos continuar procurando!\n",
            "Espaço vazio! Vamos continuar procurando!\n",
            "Espaço vazio! Vamos continuar procurando!\n",
            "Espaço vazio! Vamos continuar procurando!\n",
            "Espaço vazio! Vamos continuar procurando!\n",
            "Nasser encontrou o tesouro!\n",
            "Nasser VENCEU O JOGO!\n",
            "Espaço vazio! Vamos continuar procurando!\n",
            "Espaço vazio! Vamos continuar procurando!\n",
            "Espaço vazio! Vamos continuar procurando!\n",
            "Espaço vazio! Vamos continuar procurando!\n",
            "Espaço vazio! Vamos continuar procurando!\n",
            "Monstro encontrado! Hora da batalha!\n",
            "Espaço vazio! Vamos continuar procurando!\n",
            "Espaço vazio! Vamos continuar procurando!\n",
            "Espaço vazio! Vamos continuar procurando!\n",
            "Espaço vazio! Vamos continuar procurando!\n",
            "GAME OVER! A ENERGIA ACABOU!\n",
            "Espaço vazio! Vamos continuar procurando!\n",
            "Espaço vazio! Vamos continuar procurando!\n",
            "Espaço vazio! Vamos continuar procurando!\n",
            "Espaço vazio! Vamos continuar procurando!\n",
            "Espaço vazio! Vamos continuar procurando!\n",
            "Espaço vazio! Vamos continuar procurando!\n",
            "Espaço vazio! Vamos continuar procurando!\n",
            "Espaço vazio! Vamos continuar procurando!\n",
            "Espaço vazio! Vamos continuar procurando!\n",
            "Espaço vazio! Vamos continuar procurando!\n",
            "GAME OVER! A ENERGIA ACABOU!\n",
            "Espaço vazio! Vamos continuar procurando!\n",
            "Espaço vazio! Vamos continuar procurando!\n",
            "Fogueira encontrada! Recuperando vida e energia!\n",
            "Nasser encontrou uma fogueira !!\n",
            "Nasser vai descansar !!\n",
            "Nasser já descansou e pode continuar sua aventura !!\n",
            "Espaço vazio! Vamos continuar procurando!\n",
            "Espaço vazio! Vamos continuar procurando!\n",
            "Espaço vazio! Vamos continuar procurando!\n",
            "Espaço vazio! Vamos continuar procurando!\n",
            "Espaço vazio! Vamos continuar procurando!\n",
            "Espaço vazio! Vamos continuar procurando!\n",
            "Espaço vazio! Vamos continuar procurando!\n",
            "Espaço vazio! Vamos continuar procurando!\n",
            "Espaço vazio! Vamos continuar procurando!\n",
            "Espaço vazio! Vamos continuar procurando!\n",
            "GAME OVER! A ENERGIA ACABOU!\n",
            "Espaço vazio! Vamos continuar procurando!\n",
            "Espaço vazio! Vamos continuar procurando!\n",
            "Espaço vazio! Vamos continuar procurando!\n",
            "Espaço vazio! Vamos continuar procurando!\n",
            "Espaço vazio! Vamos continuar procurando!\n",
            "Espaço vazio! Vamos continuar procurando!\n",
            "Espaço vazio! Vamos continuar procurando!\n",
            "Nasser encontrou o tesouro!\n",
            "Nasser VENCEU O JOGO!\n",
            "Espaço vazio! Vamos continuar procurando!\n",
            "Espaço vazio! Vamos continuar procurando!\n",
            "Espaço vazio! Vamos continuar procurando!\n",
            "Espaço vazio! Vamos continuar procurando!\n",
            "Espaço vazio! Vamos continuar procurando!\n",
            "Espaço vazio! Vamos continuar procurando!\n",
            "Espaço vazio! Vamos continuar procurando!\n",
            "Espaço vazio! Vamos continuar procurando!\n",
            "Fogueira encontrada! Recuperando vida e energia!\n",
            "Nasser encontrou uma fogueira !!\n",
            "Nasser vai descansar !!\n",
            "Nasser já descansou e pode continuar sua aventura !!\n",
            "Espaço vazio! Vamos continuar procurando!\n",
            "Espaço vazio! Vamos continuar procurando!\n",
            "Nasser encontrou o tesouro!\n",
            "Nasser VENCEU O JOGO!\n",
            "Espaço vazio! Vamos continuar procurando!\n",
            "Espaço vazio! Vamos continuar procurando!\n",
            "Espaço vazio! Vamos continuar procurando!\n",
            "Espaço vazio! Vamos continuar procurando!\n",
            "Espaço vazio! Vamos continuar procurando!\n",
            "Espaço vazio! Vamos continuar procurando!\n",
            "Espaço vazio! Vamos continuar procurando!\n",
            "Espaço vazio! Vamos continuar procurando!\n",
            "Espaço vazio! Vamos continuar procurando!\n",
            "Espaço vazio! Vamos continuar procurando!\n",
            "GAME OVER! A ENERGIA ACABOU!\n",
            "Espaço vazio! Vamos continuar procurando!\n",
            "Espaço vazio! Vamos continuar procurando!\n",
            "Espaço vazio! Vamos continuar procurando!\n",
            "Espaço vazio! Vamos continuar procurando!\n",
            "Espaço vazio! Vamos continuar procurando!\n",
            "Espaço vazio! Vamos continuar procurando!\n",
            "Espaço vazio! Vamos continuar procurando!\n",
            "Espaço vazio! Vamos continuar procurando!\n",
            "Espaço vazio! Vamos continuar procurando!\n",
            "Espaço vazio! Vamos continuar procurando!\n",
            "GAME OVER! A ENERGIA ACABOU!\n",
            "Espaço vazio! Vamos continuar procurando!\n",
            "Espaço vazio! Vamos continuar procurando!\n",
            "Espaço vazio! Vamos continuar procurando!\n",
            "Espaço vazio! Vamos continuar procurando!\n",
            "Espaço vazio! Vamos continuar procurando!\n",
            "Espaço vazio! Vamos continuar procurando!\n",
            "Espaço vazio! Vamos continuar procurando!\n",
            "Espaço vazio! Vamos continuar procurando!\n",
            "Espaço vazio! Vamos continuar procurando!\n",
            "Espaço vazio! Vamos continuar procurando!\n",
            "GAME OVER! A ENERGIA ACABOU!\n",
            "Espaço vazio! Vamos continuar procurando!\n",
            "Espaço vazio! Vamos continuar procurando!\n",
            "Espaço vazio! Vamos continuar procurando!\n",
            "Espaço vazio! Vamos continuar procurando!\n",
            "Espaço vazio! Vamos continuar procurando!\n",
            "Fogueira encontrada! Recuperando vida e energia!\n",
            "Nasser encontrou uma fogueira !!\n",
            "Nasser vai descansar !!\n",
            "Nasser já descansou e pode continuar sua aventura !!\n",
            "Espaço vazio! Vamos continuar procurando!\n",
            "Espaço vazio! Vamos continuar procurando!\n",
            "Espaço vazio! Vamos continuar procurando!\n",
            "Espaço vazio! Vamos continuar procurando!\n",
            "Espaço vazio! Vamos continuar procurando!\n",
            "Monstro encontrado! Hora da batalha!\n",
            "Espaço vazio! Vamos continuar procurando!\n",
            "Espaço vazio! Vamos continuar procurando!\n",
            "GAME OVER! A ENERGIA ACABOU!\n",
            "Espaço vazio! Vamos continuar procurando!\n",
            "Espaço vazio! Vamos continuar procurando!\n",
            "Espaço vazio! Vamos continuar procurando!\n",
            "Espaço vazio! Vamos continuar procurando!\n",
            "Espaço vazio! Vamos continuar procurando!\n",
            "Espaço vazio! Vamos continuar procurando!\n",
            "Espaço vazio! Vamos continuar procurando!\n",
            "Espaço vazio! Vamos continuar procurando!\n",
            "Espaço vazio! Vamos continuar procurando!\n",
            "Espaço vazio! Vamos continuar procurando!\n",
            "GAME OVER! A ENERGIA ACABOU!\n",
            "Espaço vazio! Vamos continuar procurando!\n",
            "Espaço vazio! Vamos continuar procurando!\n",
            "Espaço vazio! Vamos continuar procurando!\n",
            "Espaço vazio! Vamos continuar procurando!\n",
            "Espaço vazio! Vamos continuar procurando!\n",
            "Espaço vazio! Vamos continuar procurando!\n",
            "Espaço vazio! Vamos continuar procurando!\n",
            "Espaço vazio! Vamos continuar procurando!\n",
            "Fogueira encontrada! Recuperando vida e energia!\n",
            "Nasser encontrou uma fogueira !!\n",
            "Nasser vai descansar !!\n",
            "Nasser já descansou e pode continuar sua aventura !!\n",
            "Monstro encontrado! Hora da batalha!\n",
            "Espaço vazio! Vamos continuar procurando!\n",
            "Espaço vazio! Vamos continuar procurando!\n",
            "Espaço vazio! Vamos continuar procurando!\n",
            "Espaço vazio! Vamos continuar procurando!\n",
            "GAME OVER! A ENERGIA ACABOU!\n",
            "Espaço vazio! Vamos continuar procurando!\n",
            "Espaço vazio! Vamos continuar procurando!\n",
            "Espaço vazio! Vamos continuar procurando!\n",
            "Espaço vazio! Vamos continuar procurando!\n",
            "Espaço vazio! Vamos continuar procurando!\n",
            "Espaço vazio! Vamos continuar procurando!\n",
            "Espaço vazio! Vamos continuar procurando!\n",
            "Espaço vazio! Vamos continuar procurando!\n",
            "Espaço vazio! Vamos continuar procurando!\n",
            "Espaço vazio! Vamos continuar procurando!\n",
            "GAME OVER! A ENERGIA ACABOU!\n",
            "Espaço vazio! Vamos continuar procurando!\n",
            "Espaço vazio! Vamos continuar procurando!\n",
            "Nasser encontrou o tesouro!\n",
            "Nasser VENCEU O JOGO!\n",
            "Espaço vazio! Vamos continuar procurando!\n",
            "Espaço vazio! Vamos continuar procurando!\n",
            "Espaço vazio! Vamos continuar procurando!\n",
            "Espaço vazio! Vamos continuar procurando!\n",
            "Espaço vazio! Vamos continuar procurando!\n",
            "Nasser encontrou o tesouro!\n",
            "Nasser VENCEU O JOGO!\n",
            "Espaço vazio! Vamos continuar procurando!\n",
            "Monstro encontrado! Hora da batalha!\n",
            "Fogueira encontrada! Recuperando vida e energia!\n",
            "Nasser encontrou uma fogueira !!\n",
            "Nasser vai descansar !!\n",
            "Nasser já descansou e pode continuar sua aventura !!\n",
            "Espaço vazio! Vamos continuar procurando!\n",
            "Espaço vazio! Vamos continuar procurando!\n",
            "Nasser encontrou o tesouro!\n",
            "Nasser VENCEU O JOGO!\n",
            "Espaço vazio! Vamos continuar procurando!\n",
            "Espaço vazio! Vamos continuar procurando!\n",
            "Espaço vazio! Vamos continuar procurando!\n",
            "Espaço vazio! Vamos continuar procurando!\n",
            "Espaço vazio! Vamos continuar procurando!\n",
            "Espaço vazio! Vamos continuar procurando!\n",
            "Espaço vazio! Vamos continuar procurando!\n",
            "Espaço vazio! Vamos continuar procurando!\n",
            "Espaço vazio! Vamos continuar procurando!\n",
            "Espaço vazio! Vamos continuar procurando!\n",
            "GAME OVER! A ENERGIA ACABOU!\n",
            "Espaço vazio! Vamos continuar procurando!\n",
            "Espaço vazio! Vamos continuar procurando!\n",
            "Espaço vazio! Vamos continuar procurando!\n",
            "Espaço vazio! Vamos continuar procurando!\n",
            "Espaço vazio! Vamos continuar procurando!\n",
            "Espaço vazio! Vamos continuar procurando!\n",
            "Espaço vazio! Vamos continuar procurando!\n",
            "Espaço vazio! Vamos continuar procurando!\n",
            "Espaço vazio! Vamos continuar procurando!\n",
            "Espaço vazio! Vamos continuar procurando!\n",
            "GAME OVER! A ENERGIA ACABOU!\n",
            "Fogueira encontrada! Recuperando vida e energia!\n",
            "Nasser encontrou uma fogueira !!\n",
            "Nasser vai descansar !!\n",
            "Nasser já descansou e pode continuar sua aventura !!\n",
            "Espaço vazio! Vamos continuar procurando!\n",
            "Espaço vazio! Vamos continuar procurando!\n",
            "Espaço vazio! Vamos continuar procurando!\n",
            "Espaço vazio! Vamos continuar procurando!\n",
            "Espaço vazio! Vamos continuar procurando!\n",
            "Monstro encontrado! Hora da batalha!\n",
            "Espaço vazio! Vamos continuar procurando!\n",
            "Espaço vazio! Vamos continuar procurando!\n",
            "Espaço vazio! Vamos continuar procurando!\n",
            "Espaço vazio! Vamos continuar procurando!\n",
            "GAME OVER! A ENERGIA ACABOU!\n",
            "Espaço vazio! Vamos continuar procurando!\n",
            "Espaço vazio! Vamos continuar procurando!\n",
            "Fogueira encontrada! Recuperando vida e energia!\n",
            "Nasser encontrou uma fogueira !!\n",
            "Nasser vai descansar !!\n",
            "Nasser já descansou e pode continuar sua aventura !!\n",
            "Espaço vazio! Vamos continuar procurando!\n",
            "Espaço vazio! Vamos continuar procurando!\n",
            "Espaço vazio! Vamos continuar procurando!\n",
            "Monstro encontrado! Hora da batalha!\n",
            "Espaço vazio! Vamos continuar procurando!\n",
            "Espaço vazio! Vamos continuar procurando!\n",
            "Espaço vazio! Vamos continuar procurando!\n",
            "Espaço vazio! Vamos continuar procurando!\n",
            "Espaço vazio! Vamos continuar procurando!\n",
            "Espaço vazio! Vamos continuar procurando!\n",
            "GAME OVER! A ENERGIA ACABOU!\n",
            "Espaço vazio! Vamos continuar procurando!\n",
            "Espaço vazio! Vamos continuar procurando!\n",
            "Espaço vazio! Vamos continuar procurando!\n",
            "Espaço vazio! Vamos continuar procurando!\n",
            "Espaço vazio! Vamos continuar procurando!\n",
            "Espaço vazio! Vamos continuar procurando!\n",
            "Espaço vazio! Vamos continuar procurando!\n",
            "Espaço vazio! Vamos continuar procurando!\n",
            "Espaço vazio! Vamos continuar procurando!\n",
            "Fogueira encontrada! Recuperando vida e energia!\n",
            "Nasser encontrou uma fogueira !!\n",
            "Nasser vai descansar !!\n",
            "Nasser já descansou e pode continuar sua aventura !!\n",
            "Espaço vazio! Vamos continuar procurando!\n",
            "Espaço vazio! Vamos continuar procurando!\n",
            "Espaço vazio! Vamos continuar procurando!\n",
            "Espaço vazio! Vamos continuar procurando!\n",
            "GAME OVER! A ENERGIA ACABOU!\n",
            "Espaço vazio! Vamos continuar procurando!\n",
            "Espaço vazio! Vamos continuar procurando!\n",
            "Espaço vazio! Vamos continuar procurando!\n",
            "Espaço vazio! Vamos continuar procurando!\n",
            "Espaço vazio! Vamos continuar procurando!\n",
            "Nasser encontrou o tesouro!\n",
            "Nasser VENCEU O JOGO!\n",
            "Espaço vazio! Vamos continuar procurando!\n",
            "Espaço vazio! Vamos continuar procurando!\n",
            "Espaço vazio! Vamos continuar procurando!\n",
            "Espaço vazio! Vamos continuar procurando!\n",
            "Espaço vazio! Vamos continuar procurando!\n",
            "Nasser encontrou o tesouro!\n",
            "Nasser VENCEU O JOGO!\n",
            "Espaço vazio! Vamos continuar procurando!\n",
            "Espaço vazio! Vamos continuar procurando!\n",
            "Espaço vazio! Vamos continuar procurando!\n",
            "Espaço vazio! Vamos continuar procurando!\n",
            "Espaço vazio! Vamos continuar procurando!\n",
            "Espaço vazio! Vamos continuar procurando!\n",
            "Espaço vazio! Vamos continuar procurando!\n",
            "Nasser encontrou o tesouro!\n",
            "Nasser VENCEU O JOGO!\n",
            "Espaço vazio! Vamos continuar procurando!\n",
            "Espaço vazio! Vamos continuar procurando!\n",
            "Espaço vazio! Vamos continuar procurando!\n",
            "Espaço vazio! Vamos continuar procurando!\n",
            "Monstro encontrado! Hora da batalha!\n",
            "Espaço vazio! Vamos continuar procurando!\n",
            "Espaço vazio! Vamos continuar procurando!\n",
            "Nasser encontrou o tesouro!\n",
            "Nasser VENCEU O JOGO!\n",
            "Espaço vazio! Vamos continuar procurando!\n",
            "Espaço vazio! Vamos continuar procurando!\n",
            "Espaço vazio! Vamos continuar procurando!\n",
            "Espaço vazio! Vamos continuar procurando!\n",
            "Espaço vazio! Vamos continuar procurando!\n",
            "Espaço vazio! Vamos continuar procurando!\n",
            "Espaço vazio! Vamos continuar procurando!\n",
            "Monstro encontrado! Hora da batalha!\n",
            "Nasser encontrou o tesouro!\n",
            "Nasser VENCEU O JOGO!\n",
            "Espaço vazio! Vamos continuar procurando!\n",
            "Espaço vazio! Vamos continuar procurando!\n",
            "Espaço vazio! Vamos continuar procurando!\n",
            "Espaço vazio! Vamos continuar procurando!\n",
            "Espaço vazio! Vamos continuar procurando!\n",
            "Espaço vazio! Vamos continuar procurando!\n",
            "Espaço vazio! Vamos continuar procurando!\n",
            "Espaço vazio! Vamos continuar procurando!\n",
            "Espaço vazio! Vamos continuar procurando!\n",
            "Espaço vazio! Vamos continuar procurando!\n",
            "GAME OVER! A ENERGIA ACABOU!\n",
            "Espaço vazio! Vamos continuar procurando!\n",
            "Espaço vazio! Vamos continuar procurando!\n",
            "Espaço vazio! Vamos continuar procurando!\n",
            "Espaço vazio! Vamos continuar procurando!\n",
            "Monstro encontrado! Hora da batalha!\n",
            "Espaço vazio! Vamos continuar procurando!\n",
            "Espaço vazio! Vamos continuar procurando!\n",
            "Espaço vazio! Vamos continuar procurando!\n",
            "Espaço vazio! Vamos continuar procurando!\n",
            "Espaço vazio! Vamos continuar procurando!\n",
            "GAME OVER! A ENERGIA ACABOU!\n",
            "Espaço vazio! Vamos continuar procurando!\n",
            "Espaço vazio! Vamos continuar procurando!\n",
            "Espaço vazio! Vamos continuar procurando!\n",
            "Espaço vazio! Vamos continuar procurando!\n",
            "Espaço vazio! Vamos continuar procurando!\n",
            "Fogueira encontrada! Recuperando vida e energia!\n",
            "Nasser encontrou uma fogueira !!\n",
            "Nasser vai descansar !!\n",
            "Nasser já descansou e pode continuar sua aventura !!\n",
            "Espaço vazio! Vamos continuar procurando!\n",
            "Espaço vazio! Vamos continuar procurando!\n",
            "Espaço vazio! Vamos continuar procurando!\n",
            "Espaço vazio! Vamos continuar procurando!\n",
            "Espaço vazio! Vamos continuar procurando!\n",
            "Espaço vazio! Vamos continuar procurando!\n",
            "Espaço vazio! Vamos continuar procurando!\n",
            "Espaço vazio! Vamos continuar procurando!\n",
            "GAME OVER! A ENERGIA ACABOU!\n",
            "Espaço vazio! Vamos continuar procurando!\n",
            "Espaço vazio! Vamos continuar procurando!\n",
            "Espaço vazio! Vamos continuar procurando!\n",
            "Espaço vazio! Vamos continuar procurando!\n",
            "Espaço vazio! Vamos continuar procurando!\n",
            "Nasser encontrou o tesouro!\n",
            "Nasser VENCEU O JOGO!\n",
            "Espaço vazio! Vamos continuar procurando!\n",
            "Espaço vazio! Vamos continuar procurando!\n",
            "Espaço vazio! Vamos continuar procurando!\n",
            "Espaço vazio! Vamos continuar procurando!\n",
            "Espaço vazio! Vamos continuar procurando!\n",
            "Espaço vazio! Vamos continuar procurando!\n",
            "Espaço vazio! Vamos continuar procurando!\n",
            "Espaço vazio! Vamos continuar procurando!\n",
            "Espaço vazio! Vamos continuar procurando!\n",
            "Nasser encontrou o tesouro!\n",
            "Nasser VENCEU O JOGO!\n",
            "Espaço vazio! Vamos continuar procurando!\n",
            "Espaço vazio! Vamos continuar procurando!\n",
            "Espaço vazio! Vamos continuar procurando!\n",
            "Espaço vazio! Vamos continuar procurando!\n",
            "Fogueira encontrada! Recuperando vida e energia!\n",
            "Nasser encontrou uma fogueira !!\n",
            "Nasser vai descansar !!\n",
            "Nasser já descansou e pode continuar sua aventura !!\n",
            "Nasser encontrou o tesouro!\n",
            "Nasser VENCEU O JOGO!\n",
            "Espaço vazio! Vamos continuar procurando!\n",
            "Espaço vazio! Vamos continuar procurando!\n",
            "Espaço vazio! Vamos continuar procurando!\n",
            "Espaço vazio! Vamos continuar procurando!\n",
            "Espaço vazio! Vamos continuar procurando!\n",
            "Espaço vazio! Vamos continuar procurando!\n",
            "Espaço vazio! Vamos continuar procurando!\n",
            "Espaço vazio! Vamos continuar procurando!\n",
            "Espaço vazio! Vamos continuar procurando!\n",
            "Espaço vazio! Vamos continuar procurando!\n",
            "GAME OVER! A ENERGIA ACABOU!\n",
            "Espaço vazio! Vamos continuar procurando!\n",
            "Espaço vazio! Vamos continuar procurando!\n",
            "Fogueira encontrada! Recuperando vida e energia!\n",
            "Nasser encontrou uma fogueira !!\n",
            "Nasser vai descansar !!\n",
            "Nasser já descansou e pode continuar sua aventura !!\n",
            "Espaço vazio! Vamos continuar procurando!\n",
            "Espaço vazio! Vamos continuar procurando!\n",
            "Espaço vazio! Vamos continuar procurando!\n",
            "Espaço vazio! Vamos continuar procurando!\n",
            "Espaço vazio! Vamos continuar procurando!\n",
            "Espaço vazio! Vamos continuar procurando!\n",
            "Espaço vazio! Vamos continuar procurando!\n",
            "Espaço vazio! Vamos continuar procurando!\n",
            "Espaço vazio! Vamos continuar procurando!\n",
            "Espaço vazio! Vamos continuar procurando!\n",
            "GAME OVER! A ENERGIA ACABOU!\n",
            "Espaço vazio! Vamos continuar procurando!\n",
            "Espaço vazio! Vamos continuar procurando!\n",
            "Espaço vazio! Vamos continuar procurando!\n",
            "Espaço vazio! Vamos continuar procurando!\n",
            "Espaço vazio! Vamos continuar procurando!\n",
            "Espaço vazio! Vamos continuar procurando!\n",
            "Espaço vazio! Vamos continuar procurando!\n",
            "Espaço vazio! Vamos continuar procurando!\n",
            "Espaço vazio! Vamos continuar procurando!\n",
            "Espaço vazio! Vamos continuar procurando!\n",
            "GAME OVER! A ENERGIA ACABOU!\n",
            "Espaço vazio! Vamos continuar procurando!\n",
            "Espaço vazio! Vamos continuar procurando!\n",
            "Espaço vazio! Vamos continuar procurando!\n",
            "Nasser encontrou o tesouro!\n",
            "Nasser VENCEU O JOGO!\n",
            "Espaço vazio! Vamos continuar procurando!\n",
            "Espaço vazio! Vamos continuar procurando!\n",
            "Espaço vazio! Vamos continuar procurando!\n",
            "Espaço vazio! Vamos continuar procurando!\n",
            "Espaço vazio! Vamos continuar procurando!\n",
            "Espaço vazio! Vamos continuar procurando!\n",
            "Espaço vazio! Vamos continuar procurando!\n",
            "Fogueira encontrada! Recuperando vida e energia!\n",
            "Nasser encontrou uma fogueira !!\n",
            "Nasser vai descansar !!\n",
            "Nasser já descansou e pode continuar sua aventura !!\n",
            "Espaço vazio! Vamos continuar procurando!\n",
            "Espaço vazio! Vamos continuar procurando!\n",
            "Espaço vazio! Vamos continuar procurando!\n",
            "Espaço vazio! Vamos continuar procurando!\n",
            "Espaço vazio! Vamos continuar procurando!\n",
            "Espaço vazio! Vamos continuar procurando!\n",
            "GAME OVER! A ENERGIA ACABOU!\n",
            "Espaço vazio! Vamos continuar procurando!\n",
            "Espaço vazio! Vamos continuar procurando!\n",
            "Espaço vazio! Vamos continuar procurando!\n",
            "Espaço vazio! Vamos continuar procurando!\n",
            "Espaço vazio! Vamos continuar procurando!\n",
            "Espaço vazio! Vamos continuar procurando!\n",
            "Espaço vazio! Vamos continuar procurando!\n",
            "Espaço vazio! Vamos continuar procurando!\n",
            "Espaço vazio! Vamos continuar procurando!\n",
            "Espaço vazio! Vamos continuar procurando!\n",
            "GAME OVER! A ENERGIA ACABOU!\n",
            "Espaço vazio! Vamos continuar procurando!\n",
            "Espaço vazio! Vamos continuar procurando!\n",
            "Espaço vazio! Vamos continuar procurando!\n",
            "Espaço vazio! Vamos continuar procurando!\n",
            "Espaço vazio! Vamos continuar procurando!\n",
            "Espaço vazio! Vamos continuar procurando!\n",
            "Espaço vazio! Vamos continuar procurando!\n",
            "Espaço vazio! Vamos continuar procurando!\n",
            "Espaço vazio! Vamos continuar procurando!\n",
            "Espaço vazio! Vamos continuar procurando!\n",
            "GAME OVER! A ENERGIA ACABOU!\n",
            "Espaço vazio! Vamos continuar procurando!\n",
            "Espaço vazio! Vamos continuar procurando!\n",
            "Espaço vazio! Vamos continuar procurando!\n",
            "Espaço vazio! Vamos continuar procurando!\n",
            "Espaço vazio! Vamos continuar procurando!\n",
            "Espaço vazio! Vamos continuar procurando!\n",
            "Espaço vazio! Vamos continuar procurando!\n",
            "Espaço vazio! Vamos continuar procurando!\n",
            "Espaço vazio! Vamos continuar procurando!\n",
            "Espaço vazio! Vamos continuar procurando!\n",
            "GAME OVER! A ENERGIA ACABOU!\n",
            "Espaço vazio! Vamos continuar procurando!\n",
            "Espaço vazio! Vamos continuar procurando!\n",
            "Espaço vazio! Vamos continuar procurando!\n",
            "Espaço vazio! Vamos continuar procurando!\n",
            "Espaço vazio! Vamos continuar procurando!\n",
            "Espaço vazio! Vamos continuar procurando!\n",
            "Espaço vazio! Vamos continuar procurando!\n",
            "Espaço vazio! Vamos continuar procurando!\n",
            "Espaço vazio! Vamos continuar procurando!\n",
            "Espaço vazio! Vamos continuar procurando!\n",
            "GAME OVER! A ENERGIA ACABOU!\n",
            "Espaço vazio! Vamos continuar procurando!\n",
            "Fogueira encontrada! Recuperando vida e energia!\n",
            "Nasser encontrou uma fogueira !!\n",
            "Nasser vai descansar !!\n",
            "Nasser já descansou e pode continuar sua aventura !!\n",
            "Espaço vazio! Vamos continuar procurando!\n",
            "Espaço vazio! Vamos continuar procurando!\n",
            "Espaço vazio! Vamos continuar procurando!\n",
            "Espaço vazio! Vamos continuar procurando!\n",
            "Espaço vazio! Vamos continuar procurando!\n",
            "Espaço vazio! Vamos continuar procurando!\n",
            "Espaço vazio! Vamos continuar procurando!\n",
            "Espaço vazio! Vamos continuar procurando!\n",
            "Espaço vazio! Vamos continuar procurando!\n",
            "Monstro encontrado! Hora da batalha!\n",
            "GAME OVER! A ENERGIA ACABOU!\n",
            "Espaço vazio! Vamos continuar procurando!\n",
            "Espaço vazio! Vamos continuar procurando!\n",
            "Espaço vazio! Vamos continuar procurando!\n",
            "Espaço vazio! Vamos continuar procurando!\n",
            "Espaço vazio! Vamos continuar procurando!\n",
            "Espaço vazio! Vamos continuar procurando!\n",
            "Espaço vazio! Vamos continuar procurando!\n",
            "Espaço vazio! Vamos continuar procurando!\n",
            "Fogueira encontrada! Recuperando vida e energia!\n",
            "Nasser encontrou uma fogueira !!\n",
            "Nasser vai descansar !!\n",
            "Nasser já descansou e pode continuar sua aventura !!\n",
            "Espaço vazio! Vamos continuar procurando!\n",
            "Espaço vazio! Vamos continuar procurando!\n",
            "Espaço vazio! Vamos continuar procurando!\n",
            "Espaço vazio! Vamos continuar procurando!\n",
            "Espaço vazio! Vamos continuar procurando!\n",
            "GAME OVER! A ENERGIA ACABOU!\n",
            "Espaço vazio! Vamos continuar procurando!\n",
            "Nasser encontrou o tesouro!\n",
            "Nasser VENCEU O JOGO!\n",
            "Espaço vazio! Vamos continuar procurando!\n",
            "Espaço vazio! Vamos continuar procurando!\n",
            "Espaço vazio! Vamos continuar procurando!\n",
            "Nasser encontrou o tesouro!\n",
            "Nasser VENCEU O JOGO!\n",
            "Espaço vazio! Vamos continuar procurando!\n",
            "Espaço vazio! Vamos continuar procurando!\n",
            "Espaço vazio! Vamos continuar procurando!\n",
            "Espaço vazio! Vamos continuar procurando!\n",
            "Espaço vazio! Vamos continuar procurando!\n",
            "Monstro encontrado! Hora da batalha!\n",
            "Espaço vazio! Vamos continuar procurando!\n",
            "Espaço vazio! Vamos continuar procurando!\n",
            "Espaço vazio! Vamos continuar procurando!\n",
            "Fogueira encontrada! Recuperando vida e energia!\n",
            "Nasser encontrou uma fogueira !!\n",
            "Nasser vai descansar !!\n",
            "Nasser já descansou e pode continuar sua aventura !!\n",
            "Espaço vazio! Vamos continuar procurando!\n",
            "Espaço vazio! Vamos continuar procurando!\n",
            "Espaço vazio! Vamos continuar procurando!\n",
            "Espaço vazio! Vamos continuar procurando!\n",
            "GAME OVER! A ENERGIA ACABOU!\n",
            "Espaço vazio! Vamos continuar procurando!\n",
            "Espaço vazio! Vamos continuar procurando!\n",
            "Espaço vazio! Vamos continuar procurando!\n",
            "Espaço vazio! Vamos continuar procurando!\n",
            "Espaço vazio! Vamos continuar procurando!\n",
            "Espaço vazio! Vamos continuar procurando!\n",
            "Espaço vazio! Vamos continuar procurando!\n",
            "Espaço vazio! Vamos continuar procurando!\n",
            "Espaço vazio! Vamos continuar procurando!\n",
            "Monstro encontrado! Hora da batalha!\n",
            "GAME OVER! A ENERGIA ACABOU!\n",
            "Espaço vazio! Vamos continuar procurando!\n",
            "Espaço vazio! Vamos continuar procurando!\n",
            "Espaço vazio! Vamos continuar procurando!\n",
            "Espaço vazio! Vamos continuar procurando!\n",
            "Espaço vazio! Vamos continuar procurando!\n",
            "Espaço vazio! Vamos continuar procurando!\n",
            "Espaço vazio! Vamos continuar procurando!\n",
            "Espaço vazio! Vamos continuar procurando!\n",
            "Espaço vazio! Vamos continuar procurando!\n",
            "Espaço vazio! Vamos continuar procurando!\n",
            "GAME OVER! A ENERGIA ACABOU!\n",
            "Espaço vazio! Vamos continuar procurando!\n",
            "Espaço vazio! Vamos continuar procurando!\n",
            "Monstro encontrado! Hora da batalha!\n",
            "Espaço vazio! Vamos continuar procurando!\n",
            "Espaço vazio! Vamos continuar procurando!\n",
            "Espaço vazio! Vamos continuar procurando!\n",
            "Espaço vazio! Vamos continuar procurando!\n",
            "Espaço vazio! Vamos continuar procurando!\n",
            "Espaço vazio! Vamos continuar procurando!\n",
            "Espaço vazio! Vamos continuar procurando!\n",
            "GAME OVER! A ENERGIA ACABOU!\n",
            "Espaço vazio! Vamos continuar procurando!\n",
            "Fogueira encontrada! Recuperando vida e energia!\n",
            "Nasser encontrou uma fogueira !!\n",
            "Nasser vai descansar !!\n",
            "Nasser já descansou e pode continuar sua aventura !!\n",
            "Espaço vazio! Vamos continuar procurando!\n",
            "Espaço vazio! Vamos continuar procurando!\n",
            "Espaço vazio! Vamos continuar procurando!\n",
            "Espaço vazio! Vamos continuar procurando!\n",
            "Monstro encontrado! Hora da batalha!\n",
            "Espaço vazio! Vamos continuar procurando!\n",
            "Espaço vazio! Vamos continuar procurando!\n",
            "Espaço vazio! Vamos continuar procurando!\n",
            "Espaço vazio! Vamos continuar procurando!\n",
            "Espaço vazio! Vamos continuar procurando!\n",
            "GAME OVER! A ENERGIA ACABOU!\n",
            "Espaço vazio! Vamos continuar procurando!\n",
            "Espaço vazio! Vamos continuar procurando!\n",
            "Espaço vazio! Vamos continuar procurando!\n",
            "Espaço vazio! Vamos continuar procurando!\n",
            "Espaço vazio! Vamos continuar procurando!\n",
            "Espaço vazio! Vamos continuar procurando!\n",
            "Espaço vazio! Vamos continuar procurando!\n",
            "Espaço vazio! Vamos continuar procurando!\n",
            "Espaço vazio! Vamos continuar procurando!\n",
            "Espaço vazio! Vamos continuar procurando!\n",
            "GAME OVER! A ENERGIA ACABOU!\n",
            "Espaço vazio! Vamos continuar procurando!\n",
            "Espaço vazio! Vamos continuar procurando!\n",
            "Espaço vazio! Vamos continuar procurando!\n",
            "Espaço vazio! Vamos continuar procurando!\n",
            "Espaço vazio! Vamos continuar procurando!\n",
            "Espaço vazio! Vamos continuar procurando!\n",
            "Espaço vazio! Vamos continuar procurando!\n",
            "Espaço vazio! Vamos continuar procurando!\n",
            "Espaço vazio! Vamos continuar procurando!\n",
            "Espaço vazio! Vamos continuar procurando!\n",
            "GAME OVER! A ENERGIA ACABOU!\n",
            "Nasser encontrou o tesouro!\n",
            "Nasser VENCEU O JOGO!\n",
            "Fogueira encontrada! Recuperando vida e energia!\n",
            "Nasser encontrou uma fogueira !!\n",
            "Nasser vai descansar !!\n",
            "Nasser já descansou e pode continuar sua aventura !!\n",
            "Espaço vazio! Vamos continuar procurando!\n",
            "Espaço vazio! Vamos continuar procurando!\n",
            "Espaço vazio! Vamos continuar procurando!\n",
            "Espaço vazio! Vamos continuar procurando!\n",
            "Espaço vazio! Vamos continuar procurando!\n",
            "Espaço vazio! Vamos continuar procurando!\n",
            "Espaço vazio! Vamos continuar procurando!\n",
            "Espaço vazio! Vamos continuar procurando!\n",
            "Espaço vazio! Vamos continuar procurando!\n",
            "Monstro encontrado! Hora da batalha!\n",
            "GAME OVER! A ENERGIA ACABOU!\n",
            "Espaço vazio! Vamos continuar procurando!\n",
            "Espaço vazio! Vamos continuar procurando!\n",
            "Espaço vazio! Vamos continuar procurando!\n",
            "Espaço vazio! Vamos continuar procurando!\n",
            "Espaço vazio! Vamos continuar procurando!\n",
            "Espaço vazio! Vamos continuar procurando!\n",
            "Espaço vazio! Vamos continuar procurando!\n",
            "Espaço vazio! Vamos continuar procurando!\n",
            "Espaço vazio! Vamos continuar procurando!\n",
            "Espaço vazio! Vamos continuar procurando!\n",
            "GAME OVER! A ENERGIA ACABOU!\n",
            "Espaço vazio! Vamos continuar procurando!\n",
            "Espaço vazio! Vamos continuar procurando!\n",
            "Espaço vazio! Vamos continuar procurando!\n",
            "Espaço vazio! Vamos continuar procurando!\n",
            "Espaço vazio! Vamos continuar procurando!\n",
            "Espaço vazio! Vamos continuar procurando!\n",
            "Espaço vazio! Vamos continuar procurando!\n",
            "Espaço vazio! Vamos continuar procurando!\n",
            "Espaço vazio! Vamos continuar procurando!\n",
            "Espaço vazio! Vamos continuar procurando!\n",
            "GAME OVER! A ENERGIA ACABOU!\n",
            "Espaço vazio! Vamos continuar procurando!\n",
            "Espaço vazio! Vamos continuar procurando!\n",
            "Espaço vazio! Vamos continuar procurando!\n",
            "Espaço vazio! Vamos continuar procurando!\n",
            "Espaço vazio! Vamos continuar procurando!\n",
            "Espaço vazio! Vamos continuar procurando!\n",
            "Espaço vazio! Vamos continuar procurando!\n",
            "Espaço vazio! Vamos continuar procurando!\n",
            "Espaço vazio! Vamos continuar procurando!\n",
            "Espaço vazio! Vamos continuar procurando!\n",
            "GAME OVER! A ENERGIA ACABOU!\n",
            "Monstro encontrado! Hora da batalha!\n",
            "Espaço vazio! Vamos continuar procurando!\n",
            "Espaço vazio! Vamos continuar procurando!\n",
            "Espaço vazio! Vamos continuar procurando!\n",
            "Espaço vazio! Vamos continuar procurando!\n",
            "Espaço vazio! Vamos continuar procurando!\n",
            "Espaço vazio! Vamos continuar procurando!\n",
            "Espaço vazio! Vamos continuar procurando!\n",
            "Espaço vazio! Vamos continuar procurando!\n",
            "Espaço vazio! Vamos continuar procurando!\n",
            "GAME OVER! A ENERGIA ACABOU!\n",
            "Espaço vazio! Vamos continuar procurando!\n",
            "Espaço vazio! Vamos continuar procurando!\n",
            "Espaço vazio! Vamos continuar procurando!\n",
            "Espaço vazio! Vamos continuar procurando!\n",
            "Espaço vazio! Vamos continuar procurando!\n",
            "Fogueira encontrada! Recuperando vida e energia!\n",
            "Nasser encontrou uma fogueira !!\n",
            "Nasser vai descansar !!\n",
            "Nasser já descansou e pode continuar sua aventura !!\n",
            "Espaço vazio! Vamos continuar procurando!\n",
            "Espaço vazio! Vamos continuar procurando!\n",
            "Espaço vazio! Vamos continuar procurando!\n",
            "Espaço vazio! Vamos continuar procurando!\n",
            "Monstro encontrado! Hora da batalha!\n",
            "Espaço vazio! Vamos continuar procurando!\n",
            "Espaço vazio! Vamos continuar procurando!\n",
            "Espaço vazio! Vamos continuar procurando!\n",
            "GAME OVER! A ENERGIA ACABOU!\n",
            "Espaço vazio! Vamos continuar procurando!\n",
            "Espaço vazio! Vamos continuar procurando!\n",
            "Espaço vazio! Vamos continuar procurando!\n",
            "Espaço vazio! Vamos continuar procurando!\n",
            "Espaço vazio! Vamos continuar procurando!\n",
            "Espaço vazio! Vamos continuar procurando!\n",
            "Espaço vazio! Vamos continuar procurando!\n",
            "Espaço vazio! Vamos continuar procurando!\n",
            "Espaço vazio! Vamos continuar procurando!\n",
            "Espaço vazio! Vamos continuar procurando!\n",
            "GAME OVER! A ENERGIA ACABOU!\n",
            "Espaço vazio! Vamos continuar procurando!\n",
            "Espaço vazio! Vamos continuar procurando!\n",
            "Espaço vazio! Vamos continuar procurando!\n",
            "Espaço vazio! Vamos continuar procurando!\n",
            "Monstro encontrado! Hora da batalha!\n",
            "Espaço vazio! Vamos continuar procurando!\n",
            "Espaço vazio! Vamos continuar procurando!\n",
            "Nasser encontrou o tesouro!\n",
            "Nasser VENCEU O JOGO!\n",
            "Monstro encontrado! Hora da batalha!\n",
            "Espaço vazio! Vamos continuar procurando!\n",
            "Espaço vazio! Vamos continuar procurando!\n",
            "Espaço vazio! Vamos continuar procurando!\n",
            "Fogueira encontrada! Recuperando vida e energia!\n",
            "Nasser encontrou uma fogueira !!\n",
            "Nasser vai descansar !!\n",
            "Nasser já descansou e pode continuar sua aventura !!\n",
            "Espaço vazio! Vamos continuar procurando!\n",
            "Espaço vazio! Vamos continuar procurando!\n",
            "Espaço vazio! Vamos continuar procurando!\n",
            "Espaço vazio! Vamos continuar procurando!\n",
            "Nasser encontrou o tesouro!\n",
            "Nasser VENCEU O JOGO!\n",
            "Espaço vazio! Vamos continuar procurando!\n",
            "Espaço vazio! Vamos continuar procurando!\n",
            "Espaço vazio! Vamos continuar procurando!\n",
            "Espaço vazio! Vamos continuar procurando!\n",
            "Espaço vazio! Vamos continuar procurando!\n",
            "Espaço vazio! Vamos continuar procurando!\n",
            "Espaço vazio! Vamos continuar procurando!\n",
            "Espaço vazio! Vamos continuar procurando!\n",
            "Espaço vazio! Vamos continuar procurando!\n",
            "Espaço vazio! Vamos continuar procurando!\n",
            "GAME OVER! A ENERGIA ACABOU!\n",
            "Espaço vazio! Vamos continuar procurando!\n",
            "Espaço vazio! Vamos continuar procurando!\n",
            "Espaço vazio! Vamos continuar procurando!\n",
            "Espaço vazio! Vamos continuar procurando!\n",
            "Nasser encontrou o tesouro!\n",
            "Nasser VENCEU O JOGO!\n",
            "Espaço vazio! Vamos continuar procurando!\n",
            "Espaço vazio! Vamos continuar procurando!\n",
            "Espaço vazio! Vamos continuar procurando!\n",
            "Monstro encontrado! Hora da batalha!\n",
            "Espaço vazio! Vamos continuar procurando!\n",
            "Espaço vazio! Vamos continuar procurando!\n",
            "Fogueira encontrada! Recuperando vida e energia!\n",
            "Nasser encontrou uma fogueira !!\n",
            "Nasser vai descansar !!\n",
            "Nasser já descansou e pode continuar sua aventura !!\n",
            "Espaço vazio! Vamos continuar procurando!\n",
            "Espaço vazio! Vamos continuar procurando!\n",
            "Espaço vazio! Vamos continuar procurando!\n",
            "Espaço vazio! Vamos continuar procurando!\n",
            "Espaço vazio! Vamos continuar procurando!\n",
            "Espaço vazio! Vamos continuar procurando!\n",
            "Espaço vazio! Vamos continuar procurando!\n",
            "GAME OVER! A ENERGIA ACABOU!\n",
            "Espaço vazio! Vamos continuar procurando!\n",
            "Espaço vazio! Vamos continuar procurando!\n",
            "Espaço vazio! Vamos continuar procurando!\n",
            "Espaço vazio! Vamos continuar procurando!\n",
            "Monstro encontrado! Hora da batalha!\n",
            "Espaço vazio! Vamos continuar procurando!\n",
            "Espaço vazio! Vamos continuar procurando!\n",
            "Espaço vazio! Vamos continuar procurando!\n",
            "Espaço vazio! Vamos continuar procurando!\n",
            "Espaço vazio! Vamos continuar procurando!\n",
            "GAME OVER! A ENERGIA ACABOU!\n"
          ]
        }
      ],
      "source": [
        "epochs = 100\n",
        "hist_epoch =[]\n",
        "\n",
        "for _ in range(epochs):\n",
        "\n",
        "    ls_pontos = []\n",
        "\n",
        "    jogo = JogoTesouro(Aventureiro, Monstro, Tesouro, Fogueira, 5)\n",
        "    jogo.colocar_pecas(jogo.tamanho)\n",
        "\n",
        "    for _ in range(10):\n",
        "        while jogo.jogo_on:\n",
        "            ls_pontos.append(jogo.timestep())\n",
        "    else:\n",
        "        hist_epoch.append(ls_pontos)"
      ]
    }
  ],
  "metadata": {
    "colab": {
      "toc_visible": true,
      "provenance": [],
      "collapsed_sections": [
        "TzmNfMSI7qss"
      ]
    },
    "kernelspec": {
      "display_name": "Python 3",
      "name": "python3"
    },
    "language_info": {
      "name": "python"
    }
  },
  "nbformat": 4,
  "nbformat_minor": 0
}