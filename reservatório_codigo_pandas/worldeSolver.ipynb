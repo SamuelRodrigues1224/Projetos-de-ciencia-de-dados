{
  "nbformat": 4,
  "nbformat_minor": 0,
  "metadata": {
    "colab": {
      "provenance": [],
      "include_colab_link": true
    },
    "kernelspec": {
      "name": "python3",
      "display_name": "Python 3"
    },
    "language_info": {
      "name": "python"
    }
  },
  "cells": [
    {
      "cell_type": "markdown",
      "metadata": {
        "id": "view-in-github",
        "colab_type": "text"
      },
      "source": [
        "<a href=\"https://colab.research.google.com/github/SamuelRodrigues1224/Projetos-de-ciencia-de-dados/blob/main/worldeSolver.ipynb\" target=\"_parent\"><img src=\"https://colab.research.google.com/assets/colab-badge.svg\" alt=\"Open In Colab\"/></a>"
      ]
    },
    {
      "cell_type": "code",
      "execution_count": null,
      "metadata": {
        "id": "8715iy1soFWl"
      },
      "outputs": [],
      "source": [
        "import pandas as pd\n",
        "import random"
      ]
    },
    {
      "cell_type": "code",
      "source": [
        "df = pd.read_csv(\"/content/words_alpha.txt\")"
      ],
      "metadata": {
        "id": "gFuikvFVq3HQ"
      },
      "execution_count": null,
      "outputs": []
    },
    {
      "cell_type": "code",
      "source": [
        "df.info()"
      ],
      "metadata": {
        "colab": {
          "base_uri": "https://localhost:8080/"
        },
        "id": "lrk3vraMq-EG",
        "outputId": "f91c1e17-0fa6-462c-832d-9d5198c4de71"
      },
      "execution_count": null,
      "outputs": [
        {
          "output_type": "stream",
          "name": "stdout",
          "text": [
            "<class 'pandas.core.frame.DataFrame'>\n",
            "RangeIndex: 370102 entries, 0 to 370101\n",
            "Data columns (total 1 columns):\n",
            " #   Column  Non-Null Count   Dtype \n",
            "---  ------  --------------   ----- \n",
            " 0   a       370100 non-null  object\n",
            "dtypes: object(1)\n",
            "memory usage: 2.8+ MB\n"
          ]
        }
      ]
    },
    {
      "cell_type": "code",
      "source": [
        "def filtro_cinco_letras(df):\n",
        "  \"\"\"\n",
        "  Seleciona apenas as palavras do dataframe que possuem 5 letras.\n",
        "\n",
        "  Args:\n",
        "      df: Um DataFrame do Pandas.\n",
        "\n",
        "  Returns:\n",
        "      Um DataFrame do Pandas contendo apenas as palavras com 5 letras.\n",
        "  \"\"\"\n",
        "\n",
        "  # Criar uma nova coluna com o comprimento de cada palavra\n",
        "  df[\"word_length\"] = df[\"a\"].str.len()\n",
        "\n",
        "  # Filtrar o DataFrame para selecionar apenas as palavras com 5 letras\n",
        "  filtered_df = df[df[\"word_length\"] == 5]\n",
        "\n",
        "  # Retornar o DataFrame filtrado\n",
        "  return filtered_df"
      ],
      "metadata": {
        "id": "HzYkxct8q_v6"
      },
      "execution_count": null,
      "outputs": []
    },
    {
      "cell_type": "code",
      "source": [
        "df = filtro_cinco_letras(df)"
      ],
      "metadata": {
        "id": "_dC-0IsgrrN8"
      },
      "execution_count": null,
      "outputs": []
    },
    {
      "cell_type": "code",
      "source": [
        "dicionario"
      ],
      "metadata": {
        "colab": {
          "base_uri": "https://localhost:8080/"
        },
        "id": "CrT8ndNtMPSB",
        "outputId": "5f535480-ce24-49dc-ebc3-e0ed8d09a944"
      },
      "execution_count": null,
      "outputs": [
        {
          "output_type": "execute_result",
          "data": {
            "text/plain": [
              "['osier']"
            ]
          },
          "metadata": {},
          "execution_count": 36
        }
      ]
    },
    {
      "cell_type": "markdown",
      "source": [],
      "metadata": {
        "id": "iEnAaWh_yWlI"
      }
    },
    {
      "cell_type": "code",
      "source": [
        "def letrasVerdes(letra, posicao, dicionario):\n",
        "    possiveis = []\n",
        "    for palavra in dicionario:\n",
        "      if palavra[posicao] == letra:\n",
        "          possiveis.append(palavra)\n",
        "    return possiveis\n",
        "\n",
        "def letrasPretas(letra, dicionario):\n",
        "    possiveis = []\n",
        "    for palavra in dicionario:\n",
        "      if palavra.find(letra) == -1:\n",
        "          possiveis.append(palavra)\n",
        "    return possiveis\n",
        "\n",
        "def letrasAmarelas(letra, posicao, dicionario):\n",
        "    possiveis = []\n",
        "    for palavra in dicionario:\n",
        "      if palavra.find(letra) > -1 and palavra[posicao] != letra:\n",
        "          possiveis.append(palavra)\n",
        "    return possiveis\n",
        "#passar por cada letra da palavra,com base na cor de cada letra chamar a\n",
        "# função correta,sortear palavra nova\n",
        "def jogar_jogo(palavra,cores, dicionario):\n",
        "    for i in range(5):\n",
        "      if cores[i] == \"v\":\n",
        "        dicionario = letrasVerdes(palavra[i], i, dicionario)\n",
        "      elif cores[i] == \"a\":\n",
        "        dicionario = letrasAmarelas(palavra[i], i, dicionario)\n",
        "      elif cores[i] == \"p\":\n",
        "          dicionario = letrasPretas(palavra[i], dicionario)\n",
        "    print(len(dicionario))\n",
        "    return dicionario\n",
        "\n",
        "#Função retorna chutes possiveis, com base na frequencia da letra na posição\n",
        "def score(palavras_lista):\n",
        "  df_palavras = pd.DataFrame(palavras_lista)\n",
        "  df_letras = df_palavras[0].apply(lambda x: pd.Series(list(x)))\n",
        "  score1 = df_letras[0].value_counts(normalize = True).to_dict()\n",
        "  score2 = df_letras[1].value_counts(normalize = True).to_dict()\n",
        "  score3 = df_letras[2].value_counts(normalize = True).to_dict()\n",
        "  score4 = df_letras[3].value_counts(normalize = True).to_dict()\n",
        "  score5 = df_letras[4].value_counts(normalize = True).to_dict()\n",
        "  palavra_score = []\n",
        "  for palavra in palavras_lista:\n",
        "    score = 0\n",
        "    for i in range(5):\n",
        "      if i == 0:\n",
        "       score += score1[palavra[i]]\n",
        "      if i == 1:\n",
        "       score += score2[palavra[i]]\n",
        "      if i == 2:\n",
        "       score += score3[palavra[i]]\n",
        "      if i == 3:\n",
        "       score += score4[palavra[i]]\n",
        "      if i == 4:\n",
        "       score += score5[palavra[i]]\n",
        "    palavra_score.append(score)\n",
        "  df_chute = pd.DataFrame([palavras_lista,palavra_score]).T\n",
        "  df_chute.columns = [\"Palavra\", \"Score\"]\n",
        "  print(df_chute.sort_values(by=\"Score\", ascending= False).head(10))\n",
        "\n",
        "  return"
      ],
      "metadata": {
        "id": "GcBr81Ours8-"
      },
      "execution_count": null,
      "outputs": []
    },
    {
      "cell_type": "code",
      "source": [],
      "metadata": {
        "id": "QqbUM6YATBTD"
      },
      "execution_count": null,
      "outputs": []
    },
    {
      "cell_type": "markdown",
      "source": [],
      "metadata": {
        "id": "eedE9SGEEUuN"
      }
    },
    {
      "cell_type": "code",
      "source": [
        "palavras_lista = df['a'].tolist()\n",
        "print(len(palavras_lista))\n",
        "score(palavras_lista)"
      ],
      "metadata": {
        "id": "-vaPzjS5wZTr",
        "colab": {
          "base_uri": "https://localhost:8080/"
        },
        "outputId": "3d4d7679-36f1-4948-c8ac-9768a2bef640"
      },
      "execution_count": null,
      "outputs": [
        {
          "output_type": "stream",
          "name": "stdout",
          "text": [
            "15918\n",
            "      Palavra     Score\n",
            "12029   sanes  0.727416\n",
            "11983   sales  0.716233\n",
            "13117   sores  0.709574\n",
            "2471    cares  0.707878\n",
            "1323    bares  0.704423\n",
            "12080   sates  0.698832\n",
            "13859   tares  0.694371\n",
            "10316   pares  0.692047\n",
            "13087   sones  0.690351\n",
            "12352   seres  0.690036\n"
          ]
        }
      ]
    },
    {
      "cell_type": "code",
      "source": [
        "dicionario = jogar_jogo(\"raise\",\"apvaa\", palavras_lista)\n",
        "score(dicionario)"
      ],
      "metadata": {
        "colab": {
          "base_uri": "https://localhost:8080/"
        },
        "id": "2l0ugOuAKThP",
        "outputId": "62d64f6c-462d-4b14-b541-6a880013cb39"
      },
      "execution_count": null,
      "outputs": [
        {
          "output_type": "stream",
          "name": "stdout",
          "text": [
            "16\n",
            "   Palavra   Score\n",
            "15   wries     3.0\n",
            "0    bries  2.9375\n",
            "1    cries  2.9375\n",
            "2    dries  2.9375\n",
            "4    fries  2.9375\n",
            "8    pries  2.9375\n",
            "13   tries  2.9375\n",
            "9    shier   2.375\n",
            "10   skier   2.375\n",
            "11   slier   2.375\n"
          ]
        }
      ]
    },
    {
      "cell_type": "code",
      "source": [
        "dicionario = jogar_jogo(\"bries\",\"pavva\", dicionario)\n",
        "score(dicionario)"
      ],
      "metadata": {
        "colab": {
          "base_uri": "https://localhost:8080/"
        },
        "id": "eaNCvkDRLIJ1",
        "outputId": "893f52bf-3cd4-456e-c25f-9c5638aa9a74"
      },
      "execution_count": null,
      "outputs": [
        {
          "output_type": "stream",
          "name": "stdout",
          "text": [
            "5\n",
            "  Palavra Score\n",
            "1   shier   4.0\n",
            "2   skier   4.0\n",
            "3   slier   4.0\n",
            "4   spier   4.0\n",
            "0   osier   3.4\n"
          ]
        }
      ]
    },
    {
      "cell_type": "code",
      "source": [
        "dicionario = jogar_jogo(\"skier\",\"pavvv\", dicionario)\n",
        "print(random.choice(dicionario))\n",
        "print(dicionario)"
      ],
      "metadata": {
        "colab": {
          "base_uri": "https://localhost:8080/"
        },
        "id": "l75ahMLAN0-m",
        "outputId": "e09e84c0-b51c-409f-e729-977694fdbeb4"
      },
      "execution_count": null,
      "outputs": [
        {
          "output_type": "stream",
          "name": "stdout",
          "text": [
            "4\n",
            "spier\n",
            "['shier', 'skier', 'slier', 'spier']\n"
          ]
        }
      ]
    },
    {
      "cell_type": "code",
      "source": [
        "dicionario = jogar_jogo(\"spier\",\"vpvvv\", dicionario)\n",
        "print(random.choice(dicionario))\n",
        "print(dicionario)"
      ],
      "metadata": {
        "colab": {
          "base_uri": "https://localhost:8080/"
        },
        "id": "p2kYOlzRO4HL",
        "outputId": "56441d88-21a6-4afc-9c97-0b0ee378bf19"
      },
      "execution_count": null,
      "outputs": [
        {
          "output_type": "stream",
          "name": "stdout",
          "text": [
            "3\n",
            "shier\n",
            "['shier', 'skier', 'slier']\n"
          ]
        }
      ]
    },
    {
      "cell_type": "markdown",
      "source": [],
      "metadata": {
        "id": "fUjZL4C5MwS9"
      }
    },
    {
      "cell_type": "code",
      "source": [],
      "metadata": {
        "id": "xLel4jeEQGE3"
      },
      "execution_count": null,
      "outputs": []
    },
    {
      "cell_type": "code",
      "source": [
        "def verde(chute, palavra):\n",
        "  verdes = []\n",
        "  for i in range(5):\n",
        "    if chute[i] == palavra[i]:\n",
        "      verdes.append(i)\n",
        "  return verdes\n",
        "\n",
        "def amarelo(chute, palavra):\n",
        "  amarelos = []\n",
        "  for i in range(5):\n",
        "    if chute[i] in palavra and chute[i] != palavra[i]:\n",
        "      amarelos.append(i)\n",
        "  return amarelos\n",
        "\n",
        "  def calculate_letter_prevalence(words):\n",
        "  \"\"\"\n",
        "  Calculates the prevalence of each letter in each position of a list of words.\n",
        "\n",
        "  Args:\n",
        "    words: A list of words.\n",
        "\n",
        "  Returns:\n",
        "    A dictionary where the keys are the positions and the values are dictionaries\n",
        "    with the letters as keys and the prevalence as values.\n",
        "  \"\"\"\n",
        "  position_prevalence = {}\n",
        "  for word in words:\n",
        "    for i, letter in enumerate(word):\n",
        "      if i not in position_prevalence:\n",
        "        position_prevalence[i] = {}\n",
        "      if letter not in position_prevalence[i]:\n",
        "        position_prevalence[i][letter] = 0\n",
        "      position_prevalence[i][letter] += 1\n",
        "\n",
        "  # Normalize the counts to get prevalence.\n",
        "  for position in position_prevalence:\n",
        "    total_letters = sum(position_prevalence[position].values())\n",
        "    for letter in position_prevalence[position]:\n",
        "      position_prevalence[position][letter] /= total_letters\n",
        "\n",
        "  return position_prevalence"
      ],
      "metadata": {
        "id": "itNpPjkouYe9"
      },
      "execution_count": null,
      "outputs": []
    }
  ]
}