{
  "nbformat": 4,
  "nbformat_minor": 0,
  "metadata": {
    "colab": {
      "private_outputs": true,
      "provenance": [],
      "gpuType": "T4"
    },
    "kernelspec": {
      "name": "python3",
      "display_name": "Python 3"
    },
    "language_info": {
      "name": "python"
    },
    "accelerator": "GPU"
  },
  "cells": [
    {
      "cell_type": "code",
      "source": [
        "import pandas as pd\n",
        "import numpy as np\n",
        "\n"
      ],
      "metadata": {
        "id": "GHXPhPb4R5GY"
      },
      "execution_count": null,
      "outputs": []
    },
    {
      "cell_type": "code",
      "source": [
        "df = pd.read_csv('/content/routes_contries_airports.csv')\n",
        "df.info()"
      ],
      "metadata": {
        "id": "oWtE8uyQGk1M"
      },
      "execution_count": null,
      "outputs": []
    },
    {
      "cell_type": "code",
      "source": [
        "# Replace commas with periods for decimal separators and handle whitespace\n",
        "df['Latitude_Partida'] = df['Latitude_Partida'].str.replace(',', '.', regex=True).str.strip().astype(float, errors='coerce')\n",
        "df['Latitude_Chegada'] = df['Latitude_Chegada'].str.replace(',', '.', regex=True).str.strip().astype(float, errors='coerce')\n",
        "df['Longitude_Partida'] = df['Longitude_Partida'].str.replace(',', '.', regex=True).str.strip().astype(float, errors='coerce')\n",
        "df['Longitude_Chegada'] = df['Longitude_Chegada'].str.replace(',', '.', regex=True).str.strip().astype(float, errors='coerce')"
      ],
      "metadata": {
        "id": "WCU7NdwUVOXz"
      },
      "execution_count": null,
      "outputs": []
    },
    {
      "cell_type": "code",
      "source": [
        "# Função para calcular a distância entre dois pontos usando a fórmula de Haversine\n",
        "def haversine(lat1, lon1, lat2, lon2):\n",
        "    # Converter de graus para radianos\n",
        "    lat1, lon1, lat2, lon2 = map(np.radians, [lat1, lon1, lat2, lon2])\n",
        "\n",
        "    # Diferenças das coordenadas\n",
        "    dlat = lat2 - lat1\n",
        "    dlon = lon2 - lon1\n",
        "\n",
        "    # Fórmula de Haversine\n",
        "    a = np.sin(dlat/2.0)**2 + np.cos(lat1) * np.cos(lat2) * np.sin(dlon/2.0)**2\n",
        "    c = 2 * np.arcsin(np.sqrt(a))\n",
        "\n",
        "    # Raio da Terra em quilômetros\n",
        "    r = 6371\n",
        "    return c * r\n",
        "\n",
        "# Aplicar a função ao dataset carregado anteriormente\n",
        "df['Distancia_km'] = df.apply(\n",
        "    lambda row: haversine(row['Latitude_Partida'], row['Longitude_Partida'], row['Latitude_Chegada'], row['Longitude_Chegada']),\n",
        "    axis=1\n",
        ")"
      ],
      "metadata": {
        "id": "1vOIxKcZTAse"
      },
      "execution_count": null,
      "outputs": []
    },
    {
      "cell_type": "code",
      "source": [
        "df.to_csv('/content/routes_with_distance.csv',index=False)"
      ],
      "metadata": {
        "id": "5LbnYG9nZgsT"
      },
      "execution_count": null,
      "outputs": []
    },
    {
      "cell_type": "code",
      "source": [
        "df"
      ],
      "metadata": {
        "id": "pIFoNFwbZhlk"
      },
      "execution_count": null,
      "outputs": []
    },
    {
      "cell_type": "code",
      "source": [
        "df2 = pd.read_csv(\"/content/airportsNew.csv\")\n",
        "df2.info()"
      ],
      "metadata": {
        "id": "Te59qtSQZ6o7"
      },
      "execution_count": null,
      "outputs": []
    },
    {
      "cell_type": "code",
      "source": [
        "df2[\"Latitude\"] = df2[\"Latitude\"].round(4)\n",
        "df2[\"Longitude\"] = df2[\"Longitude\"].round(4)\n",
        "df2"
      ],
      "metadata": {
        "id": "cdqQ_cTWGsOC"
      },
      "execution_count": null,
      "outputs": []
    },
    {
      "cell_type": "code",
      "source": [
        "df2.to_csv('/content/airportsNewTratado.csv',index=False)"
      ],
      "metadata": {
        "id": "pBd9vFO1G6MY"
      },
      "execution_count": null,
      "outputs": []
    },
    {
      "cell_type": "code",
      "source": [
        "df_routes = pd.read_csv(\"/content/routes_with_distance.csv\")\n",
        "\n",
        "\n",
        "df_airports = pd.read_csv(\"/content/airportsNewTratado2.csv\")"
      ],
      "metadata": {
        "id": "8fqLGvA9MwVs"
      },
      "execution_count": null,
      "outputs": []
    },
    {
      "cell_type": "code",
      "source": [
        "df_routes.info()"
      ],
      "metadata": {
        "id": "58KuqWDTP8aI"
      },
      "execution_count": null,
      "outputs": []
    },
    {
      "cell_type": "code",
      "source": [
        "df_airports.info()"
      ],
      "metadata": {
        "id": "SgpcbVDrPYQ3"
      },
      "execution_count": null,
      "outputs": []
    },
    {
      "cell_type": "code",
      "source": [
        "# Renomear as colunas do DataFrame df_routes com nomes apropriados\n",
        "\"\"\" df_routes.columns = [\n",
        "    'CodigoCompanhiaAerea', 'NumeroVoo', 'AeroportoPartida', 'ID_AeroportoPartida',\n",
        "    'AeroportoChegada', 'ID_AeroportoChegada', 'CodeShare', 'Paradas', 'Equipamento'\n",
        "]\"\"\"\n",
        "\n",
        "# Merge do DataFrame de rotas com o de aeroportos para Aeroporto de Partida\n",
        "df_routes_merged_departure = df_routes.merge(\n",
        "    df_airports[['Airport Name', 'Country', 'City', 'Latitude', 'Longitude']],\n",
        "    left_on='AeroportoPartida',\n",
        "    right_on='Airport Name',\n",
        "    how='left'\n",
        ").drop(columns=['Airport Name'])\n",
        "\n",
        "# Renomear as colunas adicionadas para diferenciar Partida e Chegada\n",
        "df_routes_merged_departure = df_routes_merged_departure.rename(columns={\n",
        "    'City': 'Cidade_Partida',\n",
        "    'Country': 'Pais_Partida',\n",
        "    'Latitude': 'Latitude_Partida',\n",
        "    'Longitude': 'Longitude_Partida'\n",
        "})\n",
        "\n",
        "# Merge do DataFrame resultante com o de aeroportos para Aeroporto de Chegada\n",
        "df_routes_merged = df_routes_merged_departure.merge(\n",
        "    df_airports[['Airport Name', 'Country','City', 'Latitude', 'Longitude']],\n",
        "    left_on='AeroportoChegada',\n",
        "    right_on='Airport Name',\n",
        "    how='left'\n",
        ").drop(columns=['Airport Name'])\n",
        "\n",
        "# Renomear as colunas adicionadas para diferenciar Partida e Chegada\n",
        "df_routes_merged = df_routes_merged.rename(columns={\n",
        "    'City': 'Cidade_Chegada',\n",
        "    'Country': 'Pais_Chegada',\n",
        "    'Latitude': 'Latitude_Chegada',\n",
        "    'Longitude': 'Longitude_Chegada'\n",
        "})\n",
        "\n",
        "# Salvar o DataFrame resultante em um novo arquivo CSV\n",
        "output_path_corrected = 'routes_with_airports_corrected.csv'\n",
        "df_routes_merged.to_csv(output_path_corrected, index=False)"
      ],
      "metadata": {
        "id": "U2lNyDNgNPPB"
      },
      "execution_count": null,
      "outputs": []
    },
    {
      "cell_type": "code",
      "source": [
        "df_routes_merged"
      ],
      "metadata": {
        "id": "ljnK6obtPI2-"
      },
      "execution_count": null,
      "outputs": []
    },
    {
      "cell_type": "code",
      "source": [],
      "metadata": {
        "id": "QzZEEKTjRkq8"
      },
      "execution_count": null,
      "outputs": []
    }
  ]
}